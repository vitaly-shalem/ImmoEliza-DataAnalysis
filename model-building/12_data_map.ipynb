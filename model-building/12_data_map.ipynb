{
 "cells": [
  {
   "cell_type": "code",
   "execution_count": 17,
   "metadata": {},
   "outputs": [],
   "source": [
    "# import\n",
    "import numpy as np\n",
    "from matplotlib import pyplot as plt\n",
    "import pandas as pd\n",
    "#from sklearn.preprocessing import StandardScaler\n",
    "from sklearn.preprocessing import MinMaxScaler\n",
    "import re"
   ]
  },
  {
   "cell_type": "code",
   "execution_count": 18,
   "metadata": {},
   "outputs": [
    {
     "data": {
      "text/plain": [
       "(16292, 23)"
      ]
     },
     "execution_count": 18,
     "metadata": {},
     "output_type": "execute_result"
    }
   ],
   "source": [
    "# import data\n",
    "df = pd.read_csv(\"..\\\\data\\\\04_ml_prep_data_drop_duplicate.csv\", index_col=\"ID\")\n",
    "df.shape"
   ]
  },
  {
   "cell_type": "code",
   "execution_count": 19,
   "metadata": {},
   "outputs": [
    {
     "data": {
      "text/plain": [
       "typeNum\n",
       "0    8280\n",
       "1    8012\n",
       "Name: typeNum, dtype: int64"
      ]
     },
     "execution_count": 19,
     "metadata": {},
     "output_type": "execute_result"
    }
   ],
   "source": [
    "# property type\n",
    "df[\"typeNum\"] = df[\"type\"].apply(lambda x: 1 if x == \"HOUSE\" else 0)\n",
    "df.groupby([\"typeNum\"])[\"typeNum\"].count()"
   ]
  },
  {
   "cell_type": "code",
   "execution_count": 20,
   "metadata": {},
   "outputs": [
    {
     "data": {
      "text/plain": [
       "(16292, 3)"
      ]
     },
     "execution_count": 20,
     "metadata": {},
     "output_type": "execute_result"
    }
   ],
   "source": [
    "# # region to dummies\n",
    "region_dummies = pd.get_dummies(df[[\"region\"]], prefix=\"region\", prefix_sep=\"_\", dtype=float)\n",
    "region_dummies.shape"
   ]
  },
  {
   "cell_type": "code",
   "execution_count": 21,
   "metadata": {},
   "outputs": [
    {
     "data": {
      "text/plain": [
       "(16292, 11)"
      ]
     },
     "execution_count": 21,
     "metadata": {},
     "output_type": "execute_result"
    }
   ],
   "source": [
    "# province\n",
    "province_dummies = pd.get_dummies(df[[\"province\"]], prefix=\"province\", prefix_sep=\"_\", dtype=float)\n",
    "province_dummies.shape"
   ]
  },
  {
   "cell_type": "code",
   "execution_count": 22,
   "metadata": {},
   "outputs": [
    {
     "data": {
      "text/plain": [
       "(16292, 43)"
      ]
     },
     "execution_count": 22,
     "metadata": {},
     "output_type": "execute_result"
    }
   ],
   "source": [
    "# district\n",
    "district_dummies = pd.get_dummies(df[[\"district\"]], prefix=\"district\", prefix_sep=\"_\", dtype=float)\n",
    "district_dummies.shape"
   ]
  },
  {
   "cell_type": "code",
   "execution_count": 23,
   "metadata": {},
   "outputs": [
    {
     "data": {
      "text/plain": [
       "'postalCode_dummies = pd.get_dummies(\\n    df[[\"postalCode\"]].astype(str), \\n    prefix=\"pCode\", prefix_sep=\"_\", dtype=float\\n    )\\npostalCode_dummies.shape'"
      ]
     },
     "execution_count": 23,
     "metadata": {},
     "output_type": "execute_result"
    }
   ],
   "source": [
    "# postal codes\n",
    "\"\"\"postalCode_dummies = pd.get_dummies(\n",
    "    df[[\"postalCode\"]].astype(str), \n",
    "    prefix=\"pCode\", prefix_sep=\"_\", dtype=float\n",
    "    )\n",
    "postalCode_dummies.shape\"\"\""
   ]
  },
  {
   "cell_type": "code",
   "execution_count": 24,
   "metadata": {},
   "outputs": [
    {
     "data": {
      "text/plain": [
       "(16292, 80)"
      ]
     },
     "execution_count": 24,
     "metadata": {},
     "output_type": "execute_result"
    }
   ],
   "source": [
    "# postal codes dummies\n",
    "df[\"postalCode2dg\"] = df[\"postalCode\"].apply(lambda x: str(x)[0:2]+\"00\")\n",
    "#df[[\"postalCode\", \"postalCode2dg\"]].head()\n",
    "postalCode2dg_dummies = pd.get_dummies(df[[\"postalCode2dg\"]], prefix=\"pCode\", prefix_sep=\"_\", dtype=float)\n",
    "postalCode2dg_dummies.shape\n"
   ]
  },
  {
   "cell_type": "code",
   "execution_count": 25,
   "metadata": {},
   "outputs": [
    {
     "data": {
      "text/plain": [
       "(16292, 145)"
      ]
     },
     "execution_count": 25,
     "metadata": {},
     "output_type": "execute_result"
    }
   ],
   "source": [
    "# postal codes dummies\n",
    "df[\"postalCode3dg\"] = df[\"postalCode\"].apply(\n",
    "    lambda x: str(x)[0:2]+\"10\" if re.match(r'^[1-9]{3}', str(x)) else str(x)[0:2]+\"00\"\n",
    "    )\n",
    "#df[[\"postalCode\", \"postalCode3dg\"]].head()\n",
    "#df.groupby(\"postalCode3dg\")[\"type\"].count()\n",
    "postalCode3dg_dummies = pd.get_dummies(df[[\"postalCode3dg\"]], prefix=\"pCode\", prefix_sep=\"_\", dtype=float)\n",
    "postalCode3dg_dummies.shape\n"
   ]
  },
  {
   "cell_type": "code",
   "execution_count": 26,
   "metadata": {},
   "outputs": [
    {
     "data": {
      "text/plain": [
       "(16292, 4)"
      ]
     },
     "execution_count": 26,
     "metadata": {},
     "output_type": "execute_result"
    }
   ],
   "source": [
    "# locality type\n",
    "localityType_dummies = pd.get_dummies(\n",
    "    df[[\"localityType\"]].astype(str), \n",
    "    prefix=\"lType\", prefix_sep=\"_\", dtype=float)\n",
    "localityType_dummies.shape"
   ]
  },
  {
   "cell_type": "code",
   "execution_count": 27,
   "metadata": {},
   "outputs": [],
   "source": [
    "# condition\n",
    "df[\"conditionNum\"] = None\n",
    "df.loc[df[\"condition\"] == \"AS_NEW\", \"conditionNum\"] = 1\n",
    "df.loc[df[\"condition\"] == \"JUST_RENOVATED\", \"conditionNum\"] = 2\n",
    "df.loc[df[\"condition\"] == \"GOOD\", \"conditionNum\"] = 3\n",
    "df.loc[df[\"condition\"] == \"TO_BE_DONE_UP\", \"conditionNum\"] = 4\n",
    "df.loc[df[\"condition\"] == \"TO_RENOVATE\", \"conditionNum\"] = 5\n",
    "df.loc[df[\"condition\"] == \"TO_RESTORE\", \"conditionNum\"] = 6\n",
    "df.loc[df[\"condition\"] == \"UNKNOWN\", \"conditionNum\"] = 0\n",
    "#df.groupby(\"conditionNum\")[\"type\"].count()"
   ]
  },
  {
   "cell_type": "code",
   "execution_count": 28,
   "metadata": {},
   "outputs": [
    {
     "data": {
      "text/plain": [
       "epcScoreNum\n",
       "0    3067\n",
       "1    1261\n",
       "2    3149\n",
       "3    2653\n",
       "4    2124\n",
       "5    1464\n",
       "6    1647\n",
       "7     927\n",
       "Name: type, dtype: int64"
      ]
     },
     "execution_count": 28,
     "metadata": {},
     "output_type": "execute_result"
    }
   ],
   "source": [
    "# epcScore\n",
    "df[\"epcScoreNum\"] = None\n",
    "df.loc[df[\"epcScore\"] == \"A\", \"epcScoreNum\"] = 1\n",
    "df.loc[df[\"epcScore\"] == \"B\", \"epcScoreNum\"] = 2\n",
    "df.loc[df[\"epcScore\"] == \"C\", \"epcScoreNum\"] = 3\n",
    "df.loc[df[\"epcScore\"] == \"D\", \"epcScoreNum\"] = 4\n",
    "df.loc[df[\"epcScore\"] == \"E\", \"epcScoreNum\"] = 5\n",
    "df.loc[df[\"epcScore\"] == \"F\", \"epcScoreNum\"] = 6\n",
    "df.loc[df[\"epcScore\"] == \"G\", \"epcScoreNum\"] = 7\n",
    "df.loc[df[\"epcScore\"] == \"UNKNOWN\", \"epcScoreNum\"] = 0\n",
    "df.groupby(\"epcScoreNum\")[\"type\"].count()"
   ]
  },
  {
   "cell_type": "code",
   "execution_count": 29,
   "metadata": {},
   "outputs": [],
   "source": [
    "# sampling\n",
    "to_scale = [\n",
    "    \"netHabitableSurface\", \"bedroomCount\", \n",
    "    \"bathroomCount\", \"showerRoomCount\", \"toiletCount\", \n",
    "    \"gardenSurface\", \"terraceSurface\", \"land\"\n",
    "    ]\n",
    "scaled = [\n",
    "    \"sc_netHabitableSurface\", \"sc_bedroomCount\", \n",
    "    \"sc_bathroomCount\", \"sc_showerRoomCount\", \"sc_toiletCount\", \n",
    "    \"sc_gardenSurface\", \"sc_terraceSurface\", \"sc_land\"\n",
    "    ]\n",
    "\n",
    "minMaxScaler = MinMaxScaler()\n",
    "df[scaled] = minMaxScaler.fit_transform(df[to_scale])"
   ]
  },
  {
   "cell_type": "code",
   "execution_count": 30,
   "metadata": {},
   "outputs": [],
   "source": [
    "subset = [\n",
    "    # num or converted to num\n",
    "    \"typeNum\", \n",
    "    # scaled\n",
    "    \"sc_netHabitableSurface\", \"sc_bedroomCount\", \n",
    "    \"sc_bathroomCount\", \"sc_showerRoomCount\", \"sc_toiletCount\", \n",
    "    # num or converted to num\n",
    "    \"conditionNum\", \"epcScoreNum\",\n",
    "    # boolean (as num)\n",
    "    \"hasLift\", \"fireplaceExists\", \"hasSwimmingPool\", \"hasAirConditioning\", \"hasGarden\", \"hasTerrace\",\n",
    "    # scaled\n",
    "    \"sc_gardenSurface\", \"sc_terraceSurface\", \"sc_land\",\n",
    "    # as is\n",
    "    \"price\"\n",
    "    ]\n",
    "df = df[subset]"
   ]
  },
  {
   "cell_type": "code",
   "execution_count": 31,
   "metadata": {},
   "outputs": [],
   "source": [
    "# merge dummies data\n",
    "df = df.merge(region_dummies, on=\"ID\")\n",
    "df = df.merge(province_dummies, on=\"ID\")\n",
    "df = df.merge(district_dummies, on=\"ID\")\n",
    "df = df.merge(localityType_dummies, on=\"ID\")\n",
    "#df = df.merge(postalCode2dg_dummies, on=\"ID\")\n",
    "#df = df.merge(postalCode3dg_dummies, on=\"ID\")"
   ]
  },
  {
   "cell_type": "code",
   "execution_count": 32,
   "metadata": {},
   "outputs": [],
   "source": [
    "#   save new csv\n",
    "path_to_save = \"..\\\\data\\\\05_ml_data.csv\"\n",
    "df.to_csv(path_to_save, index=True)"
   ]
  }
 ],
 "metadata": {
  "kernelspec": {
   "display_name": "_project_env",
   "language": "python",
   "name": "python3"
  },
  "language_info": {
   "codemirror_mode": {
    "name": "ipython",
    "version": 3
   },
   "file_extension": ".py",
   "mimetype": "text/x-python",
   "name": "python",
   "nbconvert_exporter": "python",
   "pygments_lexer": "ipython3",
   "version": "3.11.3"
  },
  "orig_nbformat": 4
 },
 "nbformat": 4,
 "nbformat_minor": 2
}
