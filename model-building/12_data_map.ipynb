{
 "cells": [
  {
   "cell_type": "code",
   "execution_count": 140,
   "metadata": {},
   "outputs": [],
   "source": [
    "# import\n",
    "import numpy as np\n",
    "from matplotlib import pyplot as plt\n",
    "import pandas as pd\n",
    "from sklearn.preprocessing import StandardScaler\n",
    "from sklearn.preprocessing import MinMaxScaler"
   ]
  },
  {
   "cell_type": "code",
   "execution_count": 141,
   "metadata": {},
   "outputs": [
    {
     "data": {
      "text/plain": [
       "(16292, 22)"
      ]
     },
     "execution_count": 141,
     "metadata": {},
     "output_type": "execute_result"
    }
   ],
   "source": [
    "# import data\n",
    "df = pd.read_csv(\"..\\\\data\\\\04_ml_prep_data_drop_duplicate.csv\", index_col=\"ID\")\n",
    "df.shape"
   ]
  },
  {
   "cell_type": "code",
   "execution_count": 142,
   "metadata": {},
   "outputs": [
    {
     "data": {
      "text/plain": [
       "typeNum\n",
       "0    8280\n",
       "1    8012\n",
       "Name: typeNum, dtype: int64"
      ]
     },
     "execution_count": 142,
     "metadata": {},
     "output_type": "execute_result"
    }
   ],
   "source": [
    "# property type\n",
    "df[\"typeNum\"] = df[\"type\"].apply(lambda x: 1 if x == \"HOUSE\" else 0)\n",
    "df.groupby([\"typeNum\"])[\"typeNum\"].count()"
   ]
  },
  {
   "cell_type": "code",
   "execution_count": 143,
   "metadata": {},
   "outputs": [
    {
     "data": {
      "text/plain": [
       "(16292, 3)"
      ]
     },
     "execution_count": 143,
     "metadata": {},
     "output_type": "execute_result"
    }
   ],
   "source": [
    "# # region to dummies\n",
    "region_dummies = pd.get_dummies(df[[\"region\"]], prefix=\"region\", prefix_sep=\"_\", dtype=float)\n",
    "region_dummies.shape"
   ]
  },
  {
   "cell_type": "code",
   "execution_count": 144,
   "metadata": {},
   "outputs": [
    {
     "data": {
      "text/plain": [
       "(16292, 11)"
      ]
     },
     "execution_count": 144,
     "metadata": {},
     "output_type": "execute_result"
    }
   ],
   "source": [
    "# province\n",
    "province_dummies = pd.get_dummies(df[[\"province\"]], prefix=\"province\", prefix_sep=\"_\", dtype=float)\n",
    "province_dummies.shape"
   ]
  },
  {
   "cell_type": "code",
   "execution_count": 145,
   "metadata": {},
   "outputs": [
    {
     "data": {
      "text/plain": [
       "(16292, 929)"
      ]
     },
     "execution_count": 145,
     "metadata": {},
     "output_type": "execute_result"
    }
   ],
   "source": [
    "# postal codes\n",
    "postalCode_dummies = pd.get_dummies(df[[\"postalCode\"]].astype(str), prefix=\"pCode\", prefix_sep=\"_\", dtype=float)\n",
    "postalCode_dummies.shape"
   ]
  },
  {
   "cell_type": "code",
   "execution_count": 146,
   "metadata": {},
   "outputs": [
    {
     "data": {
      "text/html": [
       "<div>\n",
       "<style scoped>\n",
       "    .dataframe tbody tr th:only-of-type {\n",
       "        vertical-align: middle;\n",
       "    }\n",
       "\n",
       "    .dataframe tbody tr th {\n",
       "        vertical-align: top;\n",
       "    }\n",
       "\n",
       "    .dataframe thead th {\n",
       "        text-align: right;\n",
       "    }\n",
       "</style>\n",
       "<table border=\"1\" class=\"dataframe\">\n",
       "  <thead>\n",
       "    <tr style=\"text-align: right;\">\n",
       "      <th></th>\n",
       "      <th>lType_X000</th>\n",
       "      <th>lType_X0X0</th>\n",
       "      <th>lType_XX00</th>\n",
       "      <th>lType_XXX0</th>\n",
       "    </tr>\n",
       "    <tr>\n",
       "      <th>ID</th>\n",
       "      <th></th>\n",
       "      <th></th>\n",
       "      <th></th>\n",
       "      <th></th>\n",
       "    </tr>\n",
       "  </thead>\n",
       "  <tbody>\n",
       "    <tr>\n",
       "      <th>10616910</th>\n",
       "      <td>0.0</td>\n",
       "      <td>0.0</td>\n",
       "      <td>0.0</td>\n",
       "      <td>1.0</td>\n",
       "    </tr>\n",
       "    <tr>\n",
       "      <th>10616880</th>\n",
       "      <td>0.0</td>\n",
       "      <td>0.0</td>\n",
       "      <td>1.0</td>\n",
       "      <td>0.0</td>\n",
       "    </tr>\n",
       "    <tr>\n",
       "      <th>10616933</th>\n",
       "      <td>0.0</td>\n",
       "      <td>0.0</td>\n",
       "      <td>1.0</td>\n",
       "      <td>0.0</td>\n",
       "    </tr>\n",
       "    <tr>\n",
       "      <th>10616913</th>\n",
       "      <td>0.0</td>\n",
       "      <td>1.0</td>\n",
       "      <td>0.0</td>\n",
       "      <td>0.0</td>\n",
       "    </tr>\n",
       "    <tr>\n",
       "      <th>10616926</th>\n",
       "      <td>0.0</td>\n",
       "      <td>0.0</td>\n",
       "      <td>1.0</td>\n",
       "      <td>0.0</td>\n",
       "    </tr>\n",
       "  </tbody>\n",
       "</table>\n",
       "</div>"
      ],
      "text/plain": [
       "          lType_X000  lType_X0X0  lType_XX00  lType_XXX0\n",
       "ID                                                      \n",
       "10616910         0.0         0.0         0.0         1.0\n",
       "10616880         0.0         0.0         1.0         0.0\n",
       "10616933         0.0         0.0         1.0         0.0\n",
       "10616913         0.0         1.0         0.0         0.0\n",
       "10616926         0.0         0.0         1.0         0.0"
      ]
     },
     "execution_count": 146,
     "metadata": {},
     "output_type": "execute_result"
    }
   ],
   "source": [
    "# locality type\n",
    "localityType_dummies = pd.get_dummies(df[[\"localityType\"]], prefix=\"lType\", prefix_sep=\"_\", dtype=float)\n",
    "localityType_dummies.head()"
   ]
  },
  {
   "cell_type": "code",
   "execution_count": 147,
   "metadata": {},
   "outputs": [],
   "source": [
    "# condition\n",
    "df[\"conditionNum\"] = None\n",
    "df.loc[df[\"condition\"] == \"AS_NEW\", \"conditionNum\"] = 1\n",
    "df.loc[df[\"condition\"] == \"JUST_RENOVATED\", \"conditionNum\"] = 2\n",
    "df.loc[df[\"condition\"] == \"GOOD\", \"conditionNum\"] = 3\n",
    "df.loc[df[\"condition\"] == \"TO_BE_DONE_UP\", \"conditionNum\"] = 4\n",
    "df.loc[df[\"condition\"] == \"TO_RENOVATE\", \"conditionNum\"] = 5\n",
    "df.loc[df[\"condition\"] == \"TO_RESTORE\", \"conditionNum\"] = 6\n",
    "df.loc[df[\"condition\"] == \"UNKNOWN\", \"conditionNum\"] = 0\n",
    "#df.groupby(\"conditionNum\")[\"type\"].count()"
   ]
  },
  {
   "cell_type": "code",
   "execution_count": 148,
   "metadata": {},
   "outputs": [
    {
     "data": {
      "text/plain": [
       "epcScoreNum\n",
       "0    3067\n",
       "1    1261\n",
       "2    3149\n",
       "3    2653\n",
       "4    2124\n",
       "5    1464\n",
       "6    1647\n",
       "7     927\n",
       "Name: type, dtype: int64"
      ]
     },
     "execution_count": 148,
     "metadata": {},
     "output_type": "execute_result"
    }
   ],
   "source": [
    "# epcScore\n",
    "df[\"epcScoreNum\"] = None\n",
    "df.loc[df[\"epcScore\"] == \"A\", \"epcScoreNum\"] = 1\n",
    "df.loc[df[\"epcScore\"] == \"B\", \"epcScoreNum\"] = 2\n",
    "df.loc[df[\"epcScore\"] == \"C\", \"epcScoreNum\"] = 3\n",
    "df.loc[df[\"epcScore\"] == \"D\", \"epcScoreNum\"] = 4\n",
    "df.loc[df[\"epcScore\"] == \"E\", \"epcScoreNum\"] = 5\n",
    "df.loc[df[\"epcScore\"] == \"F\", \"epcScoreNum\"] = 6\n",
    "df.loc[df[\"epcScore\"] == \"G\", \"epcScoreNum\"] = 7\n",
    "df.loc[df[\"epcScore\"] == \"UNKNOWN\", \"epcScoreNum\"] = 0\n",
    "df.groupby(\"epcScoreNum\")[\"type\"].count()"
   ]
  },
  {
   "cell_type": "code",
   "execution_count": 149,
   "metadata": {},
   "outputs": [],
   "source": [
    "# sampling\n",
    "to_scale = [\n",
    "    \"netHabitableSurface\", \"bedroomCount\", \n",
    "    \"bathroomCount\", \"showerRoomCount\", \"toiletCount\", \n",
    "    \"gardenSurface\", \"terraceSurface\", \"land\"\n",
    "    ]\n",
    "scaled = [\n",
    "    \"sc_netHabitableSurface\", \"sc_bedroomCount\", \n",
    "    \"sc_bathroomCount\", \"sc_showerRoomCount\", \"sc_toiletCount\", \n",
    "    \"sc_gardenSurface\", \"sc_terraceSurface\", \"sc_land\"\n",
    "    ]\n",
    "\n",
    "minMaxScaler = MinMaxScaler()\n",
    "df[scaled] = minMaxScaler.fit_transform(df[to_scale])"
   ]
  },
  {
   "cell_type": "code",
   "execution_count": 150,
   "metadata": {},
   "outputs": [],
   "source": [
    "# merge dummies data\n",
    "df = df.merge(region_dummies, on=\"ID\")\n",
    "df = df.merge(province_dummies, on=\"ID\")\n",
    "df = df.merge(localityType_dummies, on=\"ID\")"
   ]
  },
  {
   "cell_type": "code",
   "execution_count": 151,
   "metadata": {},
   "outputs": [
    {
     "name": "stdout",
     "output_type": "stream",
     "text": [
      "<class 'pandas.core.frame.DataFrame'>\n",
      "Index: 16292 entries, 10616910 to 10616831\n",
      "Data columns (total 51 columns):\n",
      " #   Column                    Non-Null Count  Dtype  \n",
      "---  ------                    --------------  -----  \n",
      " 0   type                      16292 non-null  object \n",
      " 1   region                    16292 non-null  object \n",
      " 2   province                  16292 non-null  object \n",
      " 3   postalCode                16292 non-null  int64  \n",
      " 4   localityType              16292 non-null  object \n",
      " 5   bedroomCount              16292 non-null  float64\n",
      " 6   netHabitableSurface       16292 non-null  float64\n",
      " 7   condition                 16292 non-null  object \n",
      " 8   epcScore                  16292 non-null  object \n",
      " 9   bathroomCount             16292 non-null  float64\n",
      " 10  showerRoomCount           16292 non-null  float64\n",
      " 11  toiletCount               16292 non-null  float64\n",
      " 12  hasLift                   16292 non-null  int64  \n",
      " 13  fireplaceExists           16292 non-null  int64  \n",
      " 14  hasSwimmingPool           16292 non-null  int64  \n",
      " 15  hasAirConditioning        16292 non-null  int64  \n",
      " 16  hasGarden                 16292 non-null  int64  \n",
      " 17  hasTerrace                16292 non-null  int64  \n",
      " 18  gardenSurface             16292 non-null  float64\n",
      " 19  terraceSurface            16292 non-null  float64\n",
      " 20  land                      16292 non-null  float64\n",
      " 21  price                     16292 non-null  float64\n",
      " 22  typeNum                   16292 non-null  int64  \n",
      " 23  conditionNum              16292 non-null  object \n",
      " 24  epcScoreNum               16292 non-null  object \n",
      " 25  sc_netHabitableSurface    16292 non-null  float64\n",
      " 26  sc_bedroomCount           16292 non-null  float64\n",
      " 27  sc_bathroomCount          16292 non-null  float64\n",
      " 28  sc_showerRoomCount        16292 non-null  float64\n",
      " 29  sc_toiletCount            16292 non-null  float64\n",
      " 30  sc_gardenSurface          16292 non-null  float64\n",
      " 31  sc_terraceSurface         16292 non-null  float64\n",
      " 32  sc_land                   16292 non-null  float64\n",
      " 33  region_Brussels           16292 non-null  float64\n",
      " 34  region_Flanders           16292 non-null  float64\n",
      " 35  region_Wallonie           16292 non-null  float64\n",
      " 36  province_Antwerp          16292 non-null  float64\n",
      " 37  province_Brussels         16292 non-null  float64\n",
      " 38  province_East Flanders    16292 non-null  float64\n",
      " 39  province_Flemish Brabant  16292 non-null  float64\n",
      " 40  province_Hainaut          16292 non-null  float64\n",
      " 41  province_Limburg          16292 non-null  float64\n",
      " 42  province_Liège            16292 non-null  float64\n",
      " 43  province_Luxembourg       16292 non-null  float64\n",
      " 44  province_Namur            16292 non-null  float64\n",
      " 45  province_Walloon Brabant  16292 non-null  float64\n",
      " 46  province_West Flanders    16292 non-null  float64\n",
      " 47  lType_X000                16292 non-null  float64\n",
      " 48  lType_X0X0                16292 non-null  float64\n",
      " 49  lType_XX00                16292 non-null  float64\n",
      " 50  lType_XXX0                16292 non-null  float64\n",
      "dtypes: float64(35), int64(8), object(8)\n",
      "memory usage: 6.5+ MB\n"
     ]
    }
   ],
   "source": [
    "df.info()"
   ]
  },
  {
   "cell_type": "code",
   "execution_count": 152,
   "metadata": {},
   "outputs": [],
   "source": [
    "subset = [\n",
    "    # num or converted to num\n",
    "    \"typeNum\", \n",
    "    # dummies >> \n",
    "    \"region_Brussels\", \"region_Flanders\", \"region_Wallonie\", \n",
    "    \"province_Antwerp\", \"province_Brussels\", \"province_East Flanders\", \n",
    "    \"province_Flemish Brabant\", \"province_Hainaut\", \"province_Limburg\", \n",
    "    \"province_Liège\", \"province_Luxembourg\", \"province_Namur\", \n",
    "    \"province_Walloon Brabant\", \"province_West Flanders\", \n",
    "    \"lType_X000\", \"lType_X0X0\", \"lType_XX00\", \"lType_XXX0\", \n",
    "    # scaled\n",
    "    \"sc_netHabitableSurface\", \"sc_bedroomCount\", \n",
    "    \"sc_bathroomCount\", \"sc_showerRoomCount\", \"sc_toiletCount\", \n",
    "    # num or converted to num\n",
    "    \"conditionNum\", \"epcScoreNum\",\n",
    "    # boolean (as num)\n",
    "    \"hasLift\", \"fireplaceExists\", \"hasSwimmingPool\", \"hasAirConditioning\", \"hasGarden\", \"hasTerrace\",\n",
    "    # scaled\n",
    "    \"sc_gardenSurface\", \"sc_terraceSurface\", \"sc_land\",\n",
    "    # as is ?\n",
    "    \"price\"\n",
    "    ]\n",
    "df = df[subset]"
   ]
  },
  {
   "cell_type": "code",
   "execution_count": 153,
   "metadata": {},
   "outputs": [],
   "source": [
    "#   save new csv\n",
    "path_to_save = \"..\\\\data\\\\05_ml_data.csv\"\n",
    "df.to_csv(path_to_save, index=True)"
   ]
  }
 ],
 "metadata": {
  "kernelspec": {
   "display_name": "_project_env",
   "language": "python",
   "name": "python3"
  },
  "language_info": {
   "codemirror_mode": {
    "name": "ipython",
    "version": 3
   },
   "file_extension": ".py",
   "mimetype": "text/x-python",
   "name": "python",
   "nbconvert_exporter": "python",
   "pygments_lexer": "ipython3",
   "version": "3.11.3"
  },
  "orig_nbformat": 4
 },
 "nbformat": 4,
 "nbformat_minor": 2
}
