{
 "cells": [
  {
   "cell_type": "code",
   "execution_count": 71,
   "metadata": {},
   "outputs": [],
   "source": [
    "import numpy as np\n",
    "from matplotlib import pyplot as plt\n",
    "import pandas as pd\n",
    "import seaborn as sns"
   ]
  },
  {
   "cell_type": "code",
   "execution_count": 72,
   "metadata": {},
   "outputs": [
    {
     "data": {
      "text/plain": [
       "(18348, 40)"
      ]
     },
     "execution_count": 72,
     "metadata": {},
     "output_type": "execute_result"
    }
   ],
   "source": [
    "#   load data\n",
    "df = pd.read_csv(\"..\\\\data\\\\02_cleanData_properties_data.csv\", index_col=\"ID\")\n",
    "df.shape"
   ]
  },
  {
   "cell_type": "code",
   "execution_count": 73,
   "metadata": {},
   "outputs": [
    {
     "data": {
      "text/plain": [
       "(18124, 40)"
      ]
     },
     "execution_count": 73,
     "metadata": {},
     "output_type": "execute_result"
    }
   ],
   "source": [
    "df.drop_duplicates(inplace=True)\n",
    "df.shape"
   ]
  },
  {
   "cell_type": "code",
   "execution_count": 74,
   "metadata": {},
   "outputs": [
    {
     "name": "stdout",
     "output_type": "stream",
     "text": [
      "<class 'pandas.core.frame.DataFrame'>\n",
      "Index: 18124 entries, 10616910 to 10616831\n",
      "Data columns (total 40 columns):\n",
      " #   Column                          Non-Null Count  Dtype  \n",
      "---  ------                          --------------  -----  \n",
      " 0   type                            18124 non-null  object \n",
      " 1   subtype                         18124 non-null  object \n",
      " 2   region                          18124 non-null  object \n",
      " 3   province                        18124 non-null  object \n",
      " 4   district                        18124 non-null  object \n",
      " 5   locality                        18124 non-null  object \n",
      " 6   localityType                    18124 non-null  int64  \n",
      " 7   postalCode                      18124 non-null  int64  \n",
      " 8   address                         14202 non-null  object \n",
      " 9   latitude                        14653 non-null  float64\n",
      " 10  longitude                       14653 non-null  float64\n",
      " 11  condition                       13431 non-null  object \n",
      " 12  constructionYear                11371 non-null  float64\n",
      " 13  price                           18124 non-null  float64\n",
      " 14  pricePerMeter                   16313 non-null  float64\n",
      " 15  bedroomCount                    18124 non-null  float64\n",
      " 16  netHabitableSurface             16313 non-null  float64\n",
      " 17  floor                           8946 non-null   float64\n",
      " 18  floorCount                      5504 non-null   float64\n",
      " 19  hasLift                         12198 non-null  object \n",
      " 20  facadeCount                     13047 non-null  float64\n",
      " 21  hasGarden                       5713 non-null   object \n",
      " 22  gardenSurface                   3533 non-null   float64\n",
      " 23  hasTerrace                      11535 non-null  object \n",
      " 24  terraceSurface                  7238 non-null   float64\n",
      " 25  land                            9170 non-null   float64\n",
      " 26  kitchen                         11879 non-null  object \n",
      " 27  bathroomCount                   15972 non-null  float64\n",
      " 28  showerRoomCount                 18124 non-null  float64\n",
      " 29  toiletCount                     13910 non-null  float64\n",
      " 30  fireplaceExists                 18124 non-null  bool   \n",
      " 31  hasSwimmingPool                 9378 non-null   object \n",
      " 32  hasAirConditioning              2142 non-null   object \n",
      " 33  parkingCountIndoor              7057 non-null   float64\n",
      " 34  parkingCountOutdoor             5239 non-null   float64\n",
      " 35  parkingCountClosedBox           0 non-null      float64\n",
      " 36  primaryEnergyConsumptionPerSqm  14414 non-null  float64\n",
      " 37  epcScore                        14451 non-null  object \n",
      " 38  hasDoubleGlazing                14211 non-null  object \n",
      " 39  saleType                        0 non-null      float64\n",
      "dtypes: bool(1), float64(21), int64(2), object(16)\n",
      "memory usage: 5.5+ MB\n"
     ]
    }
   ],
   "source": [
    "df.info()"
   ]
  },
  {
   "cell_type": "code",
   "execution_count": 75,
   "metadata": {},
   "outputs": [
    {
     "name": "stdout",
     "output_type": "stream",
     "text": [
      "<class 'pandas.core.frame.DataFrame'>\n",
      "Index: 18124 entries, 10616910 to 10616831\n",
      "Data columns (total 22 columns):\n",
      " #   Column               Non-Null Count  Dtype  \n",
      "---  ------               --------------  -----  \n",
      " 0   type                 18124 non-null  object \n",
      " 1   region               18124 non-null  object \n",
      " 2   province             18124 non-null  object \n",
      " 3   postalCode           18124 non-null  int64  \n",
      " 4   localityType         18124 non-null  int64  \n",
      " 5   bedroomCount         18124 non-null  float64\n",
      " 6   netHabitableSurface  16313 non-null  float64\n",
      " 7   condition            13431 non-null  object \n",
      " 8   epcScore             14451 non-null  object \n",
      " 9   bathroomCount        15972 non-null  float64\n",
      " 10  showerRoomCount      18124 non-null  float64\n",
      " 11  toiletCount          13910 non-null  float64\n",
      " 12  hasLift              12198 non-null  object \n",
      " 13  fireplaceExists      18124 non-null  bool   \n",
      " 14  hasSwimmingPool      9378 non-null   object \n",
      " 15  hasAirConditioning   2142 non-null   object \n",
      " 16  hasGarden            5713 non-null   object \n",
      " 17  hasTerrace           11535 non-null  object \n",
      " 18  gardenSurface        3533 non-null   float64\n",
      " 19  terraceSurface       7238 non-null   float64\n",
      " 20  land                 9170 non-null   float64\n",
      " 21  price                18124 non-null  float64\n",
      "dtypes: bool(1), float64(9), int64(2), object(10)\n",
      "memory usage: 3.1+ MB\n"
     ]
    }
   ],
   "source": [
    "columns_to_take = [\n",
    "    \"type\", \"region\", \"province\", \"postalCode\", \"localityType\", \n",
    "    \"bedroomCount\", \"netHabitableSurface\", \"condition\", \"epcScore\",\n",
    "    \"bathroomCount\", \"showerRoomCount\", \"toiletCount\", \n",
    "    \"hasLift\", \"fireplaceExists\", \"hasSwimmingPool\", \"hasAirConditioning\", \n",
    "    \"hasGarden\", \"hasTerrace\", \"gardenSurface\", \"terraceSurface\", \"land\",\n",
    "    \"price\" \n",
    "    ] \n",
    "df = df[columns_to_take]\n",
    "df.info()"
   ]
  },
  {
   "cell_type": "code",
   "execution_count": 76,
   "metadata": {},
   "outputs": [
    {
     "data": {
      "text/plain": [
       "type                       0\n",
       "region                     0\n",
       "province                   0\n",
       "postalCode                 0\n",
       "localityType               0\n",
       "bedroomCount               0\n",
       "netHabitableSurface     1811\n",
       "condition               4693\n",
       "epcScore                3673\n",
       "bathroomCount           2152\n",
       "showerRoomCount            0\n",
       "toiletCount             4214\n",
       "hasLift                 5926\n",
       "fireplaceExists            0\n",
       "hasSwimmingPool         8746\n",
       "hasAirConditioning     15982\n",
       "hasGarden              12411\n",
       "hasTerrace              6589\n",
       "gardenSurface          14591\n",
       "terraceSurface         10886\n",
       "land                    8954\n",
       "price                      0\n",
       "dtype: int64"
      ]
     },
     "execution_count": 76,
     "metadata": {},
     "output_type": "execute_result"
    }
   ],
   "source": [
    "df.isna().sum()"
   ]
  },
  {
   "cell_type": "code",
   "execution_count": 77,
   "metadata": {},
   "outputs": [
    {
     "data": {
      "text/plain": [
       "localityType\n",
       "1    1460\n",
       "2    2812\n",
       "3    4483\n",
       "4    9369\n",
       "Name: type, dtype: int64"
      ]
     },
     "execution_count": 77,
     "metadata": {},
     "output_type": "execute_result"
    }
   ],
   "source": [
    "df.groupby(\"localityType\")[\"type\"].count()"
   ]
  },
  {
   "cell_type": "code",
   "execution_count": 78,
   "metadata": {},
   "outputs": [
    {
     "data": {
      "text/plain": [
       "bedroomCount\n",
       "1.0     2110\n",
       "2.0     6057\n",
       "3.0     5843\n",
       "4.0     2506\n",
       "5.0      917\n",
       "6.0      368\n",
       "7.0      132\n",
       "8.0       77\n",
       "9.0       18\n",
       "10.0      34\n",
       "11.0      12\n",
       "12.0      18\n",
       "Name: type, dtype: int64"
      ]
     },
     "execution_count": 78,
     "metadata": {},
     "output_type": "execute_result"
    }
   ],
   "source": [
    "df.drop(df[df[\"bedroomCount\"] > 12].index, inplace=True)\n",
    "df.groupby(\"bedroomCount\")[\"type\"].count()"
   ]
  },
  {
   "cell_type": "code",
   "execution_count": 79,
   "metadata": {},
   "outputs": [
    {
     "data": {
      "text/plain": [
       "0"
      ]
     },
     "execution_count": 79,
     "metadata": {},
     "output_type": "execute_result"
    }
   ],
   "source": [
    "df.dropna(subset=['netHabitableSurface'], inplace=True)\n",
    "df[\"netHabitableSurface\"].isna().sum()"
   ]
  },
  {
   "cell_type": "code",
   "execution_count": 80,
   "metadata": {},
   "outputs": [
    {
     "data": {
      "text/plain": [
       "condition\n",
       "AS_NEW            3706\n",
       "GOOD              4900\n",
       "JUST_RENOVATED     955\n",
       "TO_BE_DONE_UP     1277\n",
       "TO_RENOVATE       1311\n",
       "TO_RESTORE          78\n",
       "UNKNOWN           4065\n",
       "Name: type, dtype: int64"
      ]
     },
     "execution_count": 80,
     "metadata": {},
     "output_type": "execute_result"
    }
   ],
   "source": [
    "df[\"condition\"].fillna(value=\"UNKNOWN\", inplace=True)\n",
    "df.groupby(\"condition\")[\"type\"].count()"
   ]
  },
  {
   "cell_type": "code",
   "execution_count": 81,
   "metadata": {},
   "outputs": [],
   "source": [
    "df[\"bathroomCount\"].fillna(value=0, inplace=True)\n",
    "df.loc[df[\"showerRoomCount\"] < 1, \"showerRoomCount\"] = 0\n",
    "df.loc[df[\"showerRoomCount\"] > 14, \"showerRoomCount\"] = 14\n",
    "df[\"toiletCount\"].fillna(value=0, inplace=True)"
   ]
  },
  {
   "cell_type": "code",
   "execution_count": 82,
   "metadata": {},
   "outputs": [],
   "source": [
    "# df.groupby(\"bathroomCount\")[\"type\"].count()\n",
    "# df.groupby(\"showerRoomCount\")[\"type\"].count()\n",
    "# df.groupby(\"toiletCount\")[\"type\"].count()"
   ]
  },
  {
   "cell_type": "code",
   "execution_count": 83,
   "metadata": {},
   "outputs": [],
   "source": [
    "binary_to_fix = [\"hasLift\", \"hasGarden\", \"hasTerrace\", \"fireplaceExists\", \"hasSwimmingPool\", \"hasAirConditioning\"]\n",
    "for btf in binary_to_fix:\n",
    "    df[btf].fillna(value=False, inplace=True)\n",
    "    df[btf] = df[btf].apply(lambda x: 1 if x == True else 0)"
   ]
  },
  {
   "cell_type": "code",
   "execution_count": 84,
   "metadata": {},
   "outputs": [],
   "source": [
    "# df.groupby(\"hasAirConditioning\")[\"type\"].count()"
   ]
  },
  {
   "cell_type": "code",
   "execution_count": 85,
   "metadata": {},
   "outputs": [
    {
     "data": {
      "text/plain": [
       "gardenSurface     13034\n",
       "terraceSurface     9462\n",
       "dtype: int64"
      ]
     },
     "execution_count": 85,
     "metadata": {},
     "output_type": "execute_result"
    }
   ],
   "source": [
    "df[[\"gardenSurface\", \"terraceSurface\"]].isna().sum()"
   ]
  },
  {
   "cell_type": "code",
   "execution_count": 86,
   "metadata": {},
   "outputs": [
    {
     "data": {
      "text/plain": [
       "gardenSurface\n",
       "0.0       13116\n",
       "4.0           2\n",
       "5.0           8\n",
       "6.0           6\n",
       "7.0           4\n",
       "          ...  \n",
       "974.0         1\n",
       "975.0         1\n",
       "978.0         1\n",
       "998.0         1\n",
       "1000.0      408\n",
       "Name: type, Length: 528, dtype: int64"
      ]
     },
     "execution_count": 86,
     "metadata": {},
     "output_type": "execute_result"
    }
   ],
   "source": [
    "df.loc[df[\"gardenSurface\"] < 4, \"gardenSurface\"] = 0\n",
    "df.loc[df[\"gardenSurface\"] > 1000, \"gardenSurface\"] = 1000\n",
    "df[\"gardenSurface\"].fillna(value=0, inplace=True)\n",
    "df.groupby(\"gardenSurface\")[\"type\"].count()"
   ]
  },
  {
   "cell_type": "code",
   "execution_count": 87,
   "metadata": {},
   "outputs": [
    {
     "data": {
      "text/plain": [
       "terraceSurface\n",
       "0.0      9462\n",
       "1.0       117\n",
       "2.0       189\n",
       "3.0       196\n",
       "4.0       255\n",
       "         ... \n",
       "93.0        2\n",
       "95.0       12\n",
       "96.0        2\n",
       "98.0        2\n",
       "100.0     188\n",
       "Name: type, Length: 96, dtype: int64"
      ]
     },
     "execution_count": 87,
     "metadata": {},
     "output_type": "execute_result"
    }
   ],
   "source": [
    "df.loc[df[\"terraceSurface\"] > 100, \"terraceSurface\"] = 100\n",
    "df[\"terraceSurface\"].fillna(value=0, inplace=True)\n",
    "df.groupby(\"terraceSurface\")[\"type\"].count()"
   ]
  },
  {
   "cell_type": "code",
   "execution_count": 88,
   "metadata": {},
   "outputs": [
    {
     "data": {
      "text/plain": [
       "epcScore\n",
       "A          1261\n",
       "B          3149\n",
       "C          2653\n",
       "D          2124\n",
       "E          1464\n",
       "F          1647\n",
       "G           927\n",
       "UNKNOWN    3067\n",
       "Name: type, dtype: int64"
      ]
     },
     "execution_count": 88,
     "metadata": {},
     "output_type": "execute_result"
    }
   ],
   "source": [
    "df[\"epcScore\"].fillna(value=\"UNKNOWN\", inplace=True)\n",
    "df.groupby(\"epcScore\")[\"type\"].count()"
   ]
  },
  {
   "cell_type": "code",
   "execution_count": 89,
   "metadata": {},
   "outputs": [
    {
     "data": {
      "text/plain": [
       "land\n",
       "0.0          8984\n",
       "20.0            3\n",
       "24.0            1\n",
       "25.0            1\n",
       "27.0            4\n",
       "             ... \n",
       "114000.0        1\n",
       "148000.0        1\n",
       "160737.0        2\n",
       "291294.0        1\n",
       "1090481.0       1\n",
       "Name: type, Length: 1995, dtype: int64"
      ]
     },
     "execution_count": 89,
     "metadata": {},
     "output_type": "execute_result"
    }
   ],
   "source": [
    "df.loc[df[\"land\"] < 10, \"land\"] = 0\n",
    "df[\"land\"].fillna(value=0, inplace=True)\n",
    "df.groupby(\"land\")[\"type\"].count()"
   ]
  },
  {
   "cell_type": "code",
   "execution_count": 90,
   "metadata": {},
   "outputs": [],
   "source": [
    "new_order = [\n",
    "    \"type\", \"region\", \"province\", \"postalCode\", \"localityType\", \n",
    "    \"bedroomCount\", \"netHabitableSurface\", \"condition\", \"epcScore\",\n",
    "    \"bathroomCount\", \"showerRoomCount\", \"toiletCount\", \n",
    "    \"hasLift\", \"fireplaceExists\", \"hasSwimmingPool\", \"hasAirConditioning\", \n",
    "    \"hasGarden\", \"hasTerrace\", \"gardenSurface\", \"terraceSurface\", \"land\",\n",
    "    \"price\"\n",
    "    ]\n",
    "df = df[new_order]"
   ]
  },
  {
   "cell_type": "code",
   "execution_count": 91,
   "metadata": {},
   "outputs": [
    {
     "data": {
      "text/plain": [
       "(16292, 22)"
      ]
     },
     "execution_count": 91,
     "metadata": {},
     "output_type": "execute_result"
    }
   ],
   "source": [
    "df.shape"
   ]
  },
  {
   "cell_type": "code",
   "execution_count": 92,
   "metadata": {},
   "outputs": [
    {
     "data": {
      "text/plain": [
       "type                   0\n",
       "region                 0\n",
       "province               0\n",
       "postalCode             0\n",
       "localityType           0\n",
       "bedroomCount           0\n",
       "netHabitableSurface    0\n",
       "condition              0\n",
       "epcScore               0\n",
       "bathroomCount          0\n",
       "showerRoomCount        0\n",
       "toiletCount            0\n",
       "hasLift                0\n",
       "fireplaceExists        0\n",
       "hasSwimmingPool        0\n",
       "hasAirConditioning     0\n",
       "hasGarden              0\n",
       "hasTerrace             0\n",
       "gardenSurface          0\n",
       "terraceSurface         0\n",
       "land                   0\n",
       "price                  0\n",
       "dtype: int64"
      ]
     },
     "execution_count": 92,
     "metadata": {},
     "output_type": "execute_result"
    }
   ],
   "source": [
    "df.isna().sum()"
   ]
  },
  {
   "cell_type": "code",
   "execution_count": 93,
   "metadata": {},
   "outputs": [],
   "source": [
    "#   save new csv\n",
    "path_to_save = \"..\\\\data\\\\04_ml_prep_data_drop_duplicate.csv\"\n",
    "df.to_csv(path_to_save, index=True)"
   ]
  }
 ],
 "metadata": {
  "kernelspec": {
   "display_name": "_project_env",
   "language": "python",
   "name": "python3"
  },
  "language_info": {
   "codemirror_mode": {
    "name": "ipython",
    "version": 3
   },
   "file_extension": ".py",
   "mimetype": "text/x-python",
   "name": "python",
   "nbconvert_exporter": "python",
   "pygments_lexer": "ipython3",
   "version": "3.11.3"
  },
  "orig_nbformat": 4
 },
 "nbformat": 4,
 "nbformat_minor": 2
}
