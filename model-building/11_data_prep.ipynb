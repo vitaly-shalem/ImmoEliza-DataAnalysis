{
 "cells": [
  {
   "cell_type": "code",
   "execution_count": 439,
   "metadata": {},
   "outputs": [],
   "source": [
    "import numpy as np\n",
    "from matplotlib import pyplot as plt\n",
    "import pandas as pd\n",
    "import seaborn as sns"
   ]
  },
  {
   "cell_type": "code",
   "execution_count": 440,
   "metadata": {},
   "outputs": [
    {
     "data": {
      "text/plain": [
       "(18348, 40)"
      ]
     },
     "execution_count": 440,
     "metadata": {},
     "output_type": "execute_result"
    }
   ],
   "source": [
    "#   load data\n",
    "df = pd.read_csv(\"..\\\\data\\\\02_cleanData_properties_data.csv\", index_col=\"ID\")\n",
    "df.shape"
   ]
  },
  {
   "cell_type": "code",
   "execution_count": 441,
   "metadata": {},
   "outputs": [
    {
     "data": {
      "text/plain": [
       "(18124, 40)"
      ]
     },
     "execution_count": 441,
     "metadata": {},
     "output_type": "execute_result"
    }
   ],
   "source": [
    "df.drop_duplicates(inplace=True)\n",
    "df.shape"
   ]
  },
  {
   "cell_type": "code",
   "execution_count": 442,
   "metadata": {},
   "outputs": [
    {
     "name": "stdout",
     "output_type": "stream",
     "text": [
      "<class 'pandas.core.frame.DataFrame'>\n",
      "Index: 18124 entries, 10616910 to 10616831\n",
      "Data columns (total 21 columns):\n",
      " #   Column               Non-Null Count  Dtype  \n",
      "---  ------               --------------  -----  \n",
      " 0   type                 18124 non-null  object \n",
      " 1   region               18124 non-null  object \n",
      " 2   province             18124 non-null  object \n",
      " 3   district             18124 non-null  object \n",
      " 4   postalCode           18124 non-null  int64  \n",
      " 5   localityType         18124 non-null  int64  \n",
      " 6   bedroomCount         18124 non-null  float64\n",
      " 7   netHabitableSurface  16313 non-null  float64\n",
      " 8   condition            13431 non-null  object \n",
      " 9   bathroomCount        15972 non-null  float64\n",
      " 10  showerRoomCount      18124 non-null  float64\n",
      " 11  toiletCount          13910 non-null  float64\n",
      " 12  hasLift              12198 non-null  object \n",
      " 13  hasGarden            5713 non-null   object \n",
      " 14  hasTerrace           11535 non-null  object \n",
      " 15  gardenSurface        3533 non-null   float64\n",
      " 16  terraceSurface       7238 non-null   float64\n",
      " 17  fireplaceExists      18124 non-null  bool   \n",
      " 18  hasSwimmingPool      9378 non-null   object \n",
      " 19  hasAirConditioning   2142 non-null   object \n",
      " 20  price                18124 non-null  float64\n",
      "dtypes: bool(1), float64(8), int64(2), object(10)\n",
      "memory usage: 2.9+ MB\n"
     ]
    }
   ],
   "source": [
    "columns_to_take = [\n",
    "    \"type\", \"region\", \"province\", \"localityType\", \n",
    "    \"bedroomCount\", \"netHabitableSurface\", \"condition\", \"epcScore\",\n",
    "    \"bathroomCount\", \"showerRoomCount\", \"toiletCount\", \n",
    "    \"hasLift\", \"hasGarden\", \"hasTerrace\", \n",
    "    \"gardenSurface\", \"terraceSurface\",\n",
    "    \"fireplaceExists\", \"hasSwimmingPool\", \"hasAirConditioning\", \n",
    "    \"price\" \n",
    "    ]\n",
    "    # \"district\", \"postalCode\", \n",
    "    # \"kitchen\", \"pricePerMeter\", \"constructionYear\", \n",
    "    # \"parkingCountIndoor\", \"parkingCountOutdoor\", \"parkingCountClosedBox\", \n",
    "    # \"primaryEnergyConsumptionPerSqm\", \"hasDoubleGlazing\", \n",
    "df = df[columns_to_take]\n",
    "df.info()"
   ]
  },
  {
   "cell_type": "code",
   "execution_count": 443,
   "metadata": {},
   "outputs": [
    {
     "data": {
      "text/plain": [
       "type                       0\n",
       "region                     0\n",
       "province                   0\n",
       "district                   0\n",
       "postalCode                 0\n",
       "localityType               0\n",
       "bedroomCount               0\n",
       "netHabitableSurface     1811\n",
       "condition               4693\n",
       "bathroomCount           2152\n",
       "showerRoomCount            0\n",
       "toiletCount             4214\n",
       "hasLift                 5926\n",
       "hasGarden              12411\n",
       "hasTerrace              6589\n",
       "gardenSurface          14591\n",
       "terraceSurface         10886\n",
       "fireplaceExists            0\n",
       "hasSwimmingPool         8746\n",
       "hasAirConditioning     15982\n",
       "price                      0\n",
       "dtype: int64"
      ]
     },
     "execution_count": 443,
     "metadata": {},
     "output_type": "execute_result"
    }
   ],
   "source": [
    "df.isna().sum()"
   ]
  },
  {
   "cell_type": "code",
   "execution_count": 444,
   "metadata": {},
   "outputs": [
    {
     "data": {
      "text/html": [
       "<div>\n",
       "<style scoped>\n",
       "    .dataframe tbody tr th:only-of-type {\n",
       "        vertical-align: middle;\n",
       "    }\n",
       "\n",
       "    .dataframe tbody tr th {\n",
       "        vertical-align: top;\n",
       "    }\n",
       "\n",
       "    .dataframe thead th {\n",
       "        text-align: right;\n",
       "    }\n",
       "</style>\n",
       "<table border=\"1\" class=\"dataframe\">\n",
       "  <thead>\n",
       "    <tr style=\"text-align: right;\">\n",
       "      <th></th>\n",
       "      <th>type</th>\n",
       "      <th>typeNum</th>\n",
       "    </tr>\n",
       "    <tr>\n",
       "      <th>ID</th>\n",
       "      <th></th>\n",
       "      <th></th>\n",
       "    </tr>\n",
       "  </thead>\n",
       "  <tbody>\n",
       "    <tr>\n",
       "      <th>10616910</th>\n",
       "      <td>APARTMENT</td>\n",
       "      <td>2</td>\n",
       "    </tr>\n",
       "    <tr>\n",
       "      <th>10616880</th>\n",
       "      <td>APARTMENT</td>\n",
       "      <td>2</td>\n",
       "    </tr>\n",
       "    <tr>\n",
       "      <th>10616933</th>\n",
       "      <td>APARTMENT</td>\n",
       "      <td>2</td>\n",
       "    </tr>\n",
       "    <tr>\n",
       "      <th>10616917</th>\n",
       "      <td>APARTMENT</td>\n",
       "      <td>2</td>\n",
       "    </tr>\n",
       "    <tr>\n",
       "      <th>10616913</th>\n",
       "      <td>APARTMENT</td>\n",
       "      <td>2</td>\n",
       "    </tr>\n",
       "  </tbody>\n",
       "</table>\n",
       "</div>"
      ],
      "text/plain": [
       "               type  typeNum\n",
       "ID                          \n",
       "10616910  APARTMENT        2\n",
       "10616880  APARTMENT        2\n",
       "10616933  APARTMENT        2\n",
       "10616917  APARTMENT        2\n",
       "10616913  APARTMENT        2"
      ]
     },
     "execution_count": 444,
     "metadata": {},
     "output_type": "execute_result"
    }
   ],
   "source": [
    "df[\"typeNum\"] = df[\"type\"].apply(lambda x: 1 if x == \"HOUSE\" else 2)\n",
    "df[[\"type\", \"typeNum\"]].head()"
   ]
  },
  {
   "cell_type": "code",
   "execution_count": 445,
   "metadata": {},
   "outputs": [
    {
     "data": {
      "text/plain": [
       "typeNum\n",
       "1    9170\n",
       "2    8954\n",
       "Name: typeNum, dtype: int64"
      ]
     },
     "execution_count": 445,
     "metadata": {},
     "output_type": "execute_result"
    }
   ],
   "source": [
    "df.groupby([\"typeNum\"])[\"typeNum\"].count()"
   ]
  },
  {
   "cell_type": "code",
   "execution_count": 446,
   "metadata": {},
   "outputs": [],
   "source": [
    "df[\"regionNum\"] = None\n",
    "df.loc[df[\"region\"] == \"Brussels\", \"regionNum\"] = 1\n",
    "df.loc[df[\"region\"] == \"Flanders\", \"regionNum\"] = 2\n",
    "df.loc[df[\"region\"] == \"Wallonie\", \"regionNum\"] = 3"
   ]
  },
  {
   "cell_type": "code",
   "execution_count": 447,
   "metadata": {},
   "outputs": [],
   "source": [
    "df[\"provinceNum\"] = None\n",
    "df.loc[df[\"province\"] == \"Brussels\", \"provinceNum\"] = 1\n",
    "df.loc[df[\"province\"] == \"Antwerp\", \"provinceNum\"] = 2\n",
    "df.loc[df[\"province\"] == \"East Flanders\", \"provinceNum\"] = 3\n",
    "df.loc[df[\"province\"] == \"Flemish Brabant\", \"provinceNum\"] = 4\n",
    "df.loc[df[\"province\"] == \"Limburg\", \"provinceNum\"] = 5\n",
    "df.loc[df[\"province\"] == \"West Flanders\", \"provinceNum\"] = 6\n",
    "df.loc[df[\"province\"] == \"Hainaut\", \"provinceNum\"] = 7\n",
    "df.loc[df[\"province\"] == \"Liège\", \"provinceNum\"] = 8\n",
    "df.loc[df[\"province\"] == \"Luxembourg\", \"provinceNum\"] = 9\n",
    "df.loc[df[\"province\"] == \"Namur\", \"provinceNum\"] = 10\n",
    "df.loc[df[\"province\"] == \"Walloon Brabant\", \"provinceNum\"] = 11"
   ]
  },
  {
   "cell_type": "code",
   "execution_count": 448,
   "metadata": {},
   "outputs": [
    {
     "data": {
      "text/plain": [
       "regionNum  provinceNum\n",
       "1          1              2506\n",
       "2          2              3125\n",
       "           3              2575\n",
       "           4              1382\n",
       "           5               749\n",
       "           6              3166\n",
       "3          7              1524\n",
       "           8              1265\n",
       "           9               409\n",
       "           10              664\n",
       "           11              759\n",
       "Name: typeNum, dtype: int64"
      ]
     },
     "execution_count": 448,
     "metadata": {},
     "output_type": "execute_result"
    }
   ],
   "source": [
    "df.groupby([\"regionNum\", \"provinceNum\"])[\"typeNum\"].count()"
   ]
  },
  {
   "cell_type": "code",
   "execution_count": 449,
   "metadata": {},
   "outputs": [
    {
     "data": {
      "text/plain": [
       "bedroomCount\n",
       "1.0      4034\n",
       "2.0     10823\n",
       "3.0      7790\n",
       "4.0      2739\n",
       "5.0       955\n",
       "6.0       388\n",
       "7.0       136\n",
       "8.0        82\n",
       "9.0        21\n",
       "10.0       35\n",
       "11.0       13\n",
       "12.0       22\n",
       "Name: typeNum, dtype: int64"
      ]
     },
     "execution_count": 449,
     "metadata": {},
     "output_type": "execute_result"
    }
   ],
   "source": [
    "df.drop(df[df[\"bedroomCount\"] > 12].index, inplace=True)\n",
    "df.groupby(\"bedroomCount\")[\"typeNum\"].sum()"
   ]
  },
  {
   "cell_type": "code",
   "execution_count": 450,
   "metadata": {},
   "outputs": [
    {
     "data": {
      "text/plain": [
       "0"
      ]
     },
     "execution_count": 450,
     "metadata": {},
     "output_type": "execute_result"
    }
   ],
   "source": [
    "df.dropna(subset=['netHabitableSurface'], inplace=True)\n",
    "df[\"netHabitableSurface\"].isna().sum()"
   ]
  },
  {
   "cell_type": "code",
   "execution_count": 451,
   "metadata": {},
   "outputs": [
    {
     "data": {
      "text/plain": [
       "conditionNum\n",
       "0    6330\n",
       "1    6001\n",
       "2    1476\n",
       "3    7327\n",
       "4    1751\n",
       "5    1589\n",
       "6      98\n",
       "Name: typeNum, dtype: int64"
      ]
     },
     "execution_count": 451,
     "metadata": {},
     "output_type": "execute_result"
    }
   ],
   "source": [
    "df[\"condition\"].fillna(value=\"UNKNOWN\", inplace=True)\n",
    "df[\"conditionNum\"] = None\n",
    "df.loc[df[\"condition\"] == \"AS_NEW\", \"conditionNum\"] = 1\n",
    "df.loc[df[\"condition\"] == \"JUST_RENOVATED\", \"conditionNum\"] = 2\n",
    "df.loc[df[\"condition\"] == \"GOOD\", \"conditionNum\"] = 3\n",
    "df.loc[df[\"condition\"] == \"TO_BE_DONE_UP\", \"conditionNum\"] = 4\n",
    "df.loc[df[\"condition\"] == \"TO_RENOVATE\", \"conditionNum\"] = 5\n",
    "df.loc[df[\"condition\"] == \"TO_RESTORE\", \"conditionNum\"] = 6\n",
    "df.loc[df[\"condition\"] == \"UNKNOWN\", \"conditionNum\"] = 0\n",
    "df.groupby(\"conditionNum\")[\"typeNum\"].sum()"
   ]
  },
  {
   "cell_type": "code",
   "execution_count": 452,
   "metadata": {},
   "outputs": [],
   "source": [
    "df[\"bathroomCount\"].fillna(value=0, inplace=True)\n",
    "df.loc[df[\"showerRoomCount\"] < 1, \"showerRoomCount\"] = 0\n",
    "df.loc[df[\"showerRoomCount\"] > 14, \"showerRoomCount\"] = 0\n",
    "df[\"toiletCount\"].fillna(value=0, inplace=True)"
   ]
  },
  {
   "cell_type": "code",
   "execution_count": 453,
   "metadata": {},
   "outputs": [],
   "source": [
    "# df.groupby(\"bathroomCount\")[\"type\"].count()\n",
    "# df.groupby(\"showerRoomCount\")[\"type\"].count()\n",
    "# df.groupby(\"toiletCount\")[\"type\"].count()"
   ]
  },
  {
   "cell_type": "code",
   "execution_count": 454,
   "metadata": {},
   "outputs": [],
   "source": [
    "binary_to_fix = [\"hasLift\", \"hasGarden\", \"hasTerrace\", \"fireplaceExists\", \"hasSwimmingPool\", \"hasAirConditioning\"]\n",
    "for btf in binary_to_fix:\n",
    "    df[btf].fillna(value=False, inplace=True)\n",
    "    df[btf] = df[btf].apply(lambda x: 1 if x == True else 0)\n"
   ]
  },
  {
   "cell_type": "code",
   "execution_count": 455,
   "metadata": {},
   "outputs": [
    {
     "data": {
      "text/plain": [
       "gardenSurface     13034\n",
       "terraceSurface     9462\n",
       "dtype: int64"
      ]
     },
     "execution_count": 455,
     "metadata": {},
     "output_type": "execute_result"
    }
   ],
   "source": [
    "df[[\"gardenSurface\", \"terraceSurface\"]].isna().sum()"
   ]
  },
  {
   "cell_type": "code",
   "execution_count": 456,
   "metadata": {},
   "outputs": [],
   "source": [
    "df[\"gardenSurface\"].fillna(value=0, inplace=True)\n",
    "df[\"terraceSurface\"].fillna(value=0, inplace=True)"
   ]
  },
  {
   "cell_type": "code",
   "execution_count": 457,
   "metadata": {},
   "outputs": [
    {
     "data": {
      "text/plain": [
       "hasAirConditioning\n",
       "0    16147\n",
       "1      145\n",
       "Name: type, dtype: int64"
      ]
     },
     "execution_count": 457,
     "metadata": {},
     "output_type": "execute_result"
    }
   ],
   "source": [
    "df.groupby(\"hasAirConditioning\")[\"type\"].count()"
   ]
  },
  {
   "cell_type": "code",
   "execution_count": 458,
   "metadata": {},
   "outputs": [],
   "source": [
    "new_order = [\n",
    "    \"type\", \"typeNum\", \"region\", \"regionNum\", \"province\", \"provinceNum\", \"district\", \"postalCode\", \n",
    "    \"localityType\", \"bedroomCount\", \"netHabitableSurface\", \"condition\", \"conditionNum\",\n",
    "    \"bathroomCount\", \"showerRoomCount\", \"toiletCount\", \n",
    "    \"hasLift\", \"fireplaceExists\", \"hasSwimmingPool\", \"hasAirConditioning\", \n",
    "    \"hasGarden\", \"gardenSurface\", \"hasTerrace\", \"terraceSurface\",\n",
    "    \"price\"\n",
    "    ]\n",
    "df = df[new_order]"
   ]
  },
  {
   "cell_type": "code",
   "execution_count": 459,
   "metadata": {},
   "outputs": [
    {
     "data": {
      "text/plain": [
       "(16292, 25)"
      ]
     },
     "execution_count": 459,
     "metadata": {},
     "output_type": "execute_result"
    }
   ],
   "source": [
    "df.shape"
   ]
  },
  {
   "cell_type": "code",
   "execution_count": 460,
   "metadata": {},
   "outputs": [
    {
     "data": {
      "text/plain": [
       "type                   0\n",
       "typeNum                0\n",
       "region                 0\n",
       "regionNum              0\n",
       "province               0\n",
       "provinceNum            0\n",
       "district               0\n",
       "postalCode             0\n",
       "localityType           0\n",
       "bedroomCount           0\n",
       "netHabitableSurface    0\n",
       "condition              0\n",
       "conditionNum           0\n",
       "bathroomCount          0\n",
       "showerRoomCount        0\n",
       "toiletCount            0\n",
       "hasLift                0\n",
       "fireplaceExists        0\n",
       "hasSwimmingPool        0\n",
       "hasAirConditioning     0\n",
       "hasGarden              0\n",
       "gardenSurface          0\n",
       "hasTerrace             0\n",
       "terraceSurface         0\n",
       "price                  0\n",
       "dtype: int64"
      ]
     },
     "execution_count": 460,
     "metadata": {},
     "output_type": "execute_result"
    }
   ],
   "source": [
    "df.isna().sum()"
   ]
  },
  {
   "cell_type": "code",
   "execution_count": 461,
   "metadata": {},
   "outputs": [],
   "source": [
    "#   save new csv\n",
    "path_to_save = \"..\\\\data\\\\04_ml_prep_data_drop_duplicate.csv\"\n",
    "df.to_csv(path_to_save, index=True)"
   ]
  }
 ],
 "metadata": {
  "kernelspec": {
   "display_name": "_project_env",
   "language": "python",
   "name": "python3"
  },
  "language_info": {
   "codemirror_mode": {
    "name": "ipython",
    "version": 3
   },
   "file_extension": ".py",
   "mimetype": "text/x-python",
   "name": "python",
   "nbconvert_exporter": "python",
   "pygments_lexer": "ipython3",
   "version": "3.11.3"
  },
  "orig_nbformat": 4
 },
 "nbformat": 4,
 "nbformat_minor": 2
}
