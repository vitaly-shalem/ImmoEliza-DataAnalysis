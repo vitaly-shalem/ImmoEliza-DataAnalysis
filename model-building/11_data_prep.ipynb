{
 "cells": [
  {
   "cell_type": "code",
   "execution_count": 446,
   "metadata": {},
   "outputs": [],
   "source": [
    "import numpy as np\n",
    "from matplotlib import pyplot as plt\n",
    "import pandas as pd\n",
    "import seaborn as sns"
   ]
  },
  {
   "cell_type": "markdown",
   "metadata": {},
   "source": [
    "### Load data"
   ]
  },
  {
   "cell_type": "code",
   "execution_count": 447,
   "metadata": {},
   "outputs": [
    {
     "data": {
      "text/plain": [
       "(18348, 40)"
      ]
     },
     "execution_count": 447,
     "metadata": {},
     "output_type": "execute_result"
    }
   ],
   "source": [
    "#   load data\n",
    "df = pd.read_csv(\"..\\\\data\\\\02_cleanData_properties_data.csv\", index_col=\"ID\")\n",
    "df.shape"
   ]
  },
  {
   "cell_type": "markdown",
   "metadata": {},
   "source": [
    "### Drop duplicates"
   ]
  },
  {
   "cell_type": "code",
   "execution_count": 448,
   "metadata": {},
   "outputs": [
    {
     "data": {
      "text/plain": [
       "(18124, 40)"
      ]
     },
     "execution_count": 448,
     "metadata": {},
     "output_type": "execute_result"
    }
   ],
   "source": [
    "df.drop_duplicates(inplace=True)\n",
    "df.shape"
   ]
  },
  {
   "cell_type": "markdown",
   "metadata": {},
   "source": [
    "### Drop missing values"
   ]
  },
  {
   "cell_type": "code",
   "execution_count": 449,
   "metadata": {},
   "outputs": [
    {
     "data": {
      "text/plain": [
       "0"
      ]
     },
     "execution_count": 449,
     "metadata": {},
     "output_type": "execute_result"
    }
   ],
   "source": [
    "df.dropna(subset=['netHabitableSurface'], inplace=True)\n",
    "df[\"netHabitableSurface\"].isna().sum()"
   ]
  },
  {
   "cell_type": "code",
   "execution_count": 450,
   "metadata": {},
   "outputs": [
    {
     "data": {
      "text/plain": [
       "0"
      ]
     },
     "execution_count": 450,
     "metadata": {},
     "output_type": "execute_result"
    }
   ],
   "source": [
    "df.dropna(subset=['price'], inplace=True)\n",
    "df[\"price\"].isna().sum()"
   ]
  },
  {
   "cell_type": "code",
   "execution_count": 451,
   "metadata": {},
   "outputs": [
    {
     "data": {
      "text/plain": [
       "0"
      ]
     },
     "execution_count": 451,
     "metadata": {},
     "output_type": "execute_result"
    }
   ],
   "source": [
    "df.dropna(subset=['bedroomCount'], inplace=True)\n",
    "df[\"bedroomCount\"].isna().sum()"
   ]
  },
  {
   "cell_type": "code",
   "execution_count": 452,
   "metadata": {},
   "outputs": [
    {
     "data": {
      "text/plain": [
       "(16313, 40)"
      ]
     },
     "execution_count": 452,
     "metadata": {},
     "output_type": "execute_result"
    }
   ],
   "source": [
    "df.shape"
   ]
  },
  {
   "cell_type": "markdown",
   "metadata": {},
   "source": [
    "### Subset data"
   ]
  },
  {
   "cell_type": "code",
   "execution_count": 453,
   "metadata": {},
   "outputs": [
    {
     "data": {
      "text/plain": [
       "'columns_to_take = [\\n    \"type\", \"region\", \"province\", \"district\", \"postalCode\", \"localityType\",\\n    \"bedroomCount\", \"netHabitableSurface\", \"condition\", \"epcScore\",\\n    \"bathroomCount\", \"showerRoomCount\", \"toiletCount\", \\n    \"hasLift\", \"fireplaceExists\", \"hasSwimmingPool\", \"hasAirConditioning\", \\n    \"hasGarden\", \"hasTerrace\", \"gardenSurface\", \"terraceSurface\", \"land\",\\n    \"price\" \\n    ] \\ndf = df[columns_to_take]\\ndf.info()'"
      ]
     },
     "execution_count": 453,
     "metadata": {},
     "output_type": "execute_result"
    }
   ],
   "source": [
    "\"\"\"columns_to_take = [\n",
    "    \"type\", \"region\", \"province\", \"district\", \"postalCode\", \"localityType\",\n",
    "    \"bedroomCount\", \"netHabitableSurface\", \"condition\", \"epcScore\",\n",
    "    \"bathroomCount\", \"showerRoomCount\", \"toiletCount\", \n",
    "    \"hasLift\", \"fireplaceExists\", \"hasSwimmingPool\", \"hasAirConditioning\", \n",
    "    \"hasGarden\", \"hasTerrace\", \"gardenSurface\", \"terraceSurface\", \"land\",\n",
    "    \"price\" \n",
    "    ] \n",
    "df = df[columns_to_take]\n",
    "df.info()\"\"\""
   ]
  },
  {
   "cell_type": "markdown",
   "metadata": {},
   "source": [
    "### Check null values"
   ]
  },
  {
   "cell_type": "code",
   "execution_count": 454,
   "metadata": {},
   "outputs": [
    {
     "data": {
      "text/plain": [
       "type                                  0\n",
       "subtype                               0\n",
       "region                                0\n",
       "province                              0\n",
       "district                              0\n",
       "locality                              0\n",
       "localityType                          0\n",
       "postalCode                            0\n",
       "address                            3572\n",
       "latitude                           3147\n",
       "longitude                          3147\n",
       "condition                          4075\n",
       "constructionYear                   5806\n",
       "price                                 0\n",
       "pricePerMeter                         0\n",
       "bedroomCount                          0\n",
       "netHabitableSurface                   0\n",
       "floor                              8036\n",
       "floorCount                        11063\n",
       "hasLift                            5306\n",
       "facadeCount                        4386\n",
       "hasGarden                         11044\n",
       "gardenSurface                     13047\n",
       "hasTerrace                         5624\n",
       "terraceSurface                     9476\n",
       "land                               8284\n",
       "kitchen                            5289\n",
       "bathroomCount                      1730\n",
       "showerRoomCount                       0\n",
       "toiletCount                        3597\n",
       "fireplaceExists                       0\n",
       "hasSwimmingPool                    7934\n",
       "hasAirConditioning                14632\n",
       "parkingCountIndoor                 9871\n",
       "parkingCountOutdoor               11492\n",
       "parkingCountClosedBox             16313\n",
       "primaryEnergyConsumptionPerSqm     3092\n",
       "epcScore                           3073\n",
       "hasDoubleGlazing                   3525\n",
       "saleType                          16313\n",
       "dtype: int64"
      ]
     },
     "execution_count": 454,
     "metadata": {},
     "output_type": "execute_result"
    }
   ],
   "source": [
    "df.isna().sum()"
   ]
  },
  {
   "cell_type": "code",
   "execution_count": 455,
   "metadata": {},
   "outputs": [
    {
     "data": {
      "text/plain": [
       "localityType\n",
       "1    1327\n",
       "2    2600\n",
       "3    3992\n",
       "4    8394\n",
       "Name: type, dtype: int64"
      ]
     },
     "execution_count": 455,
     "metadata": {},
     "output_type": "execute_result"
    }
   ],
   "source": [
    "df.groupby(\"localityType\")[\"type\"].count()"
   ]
  },
  {
   "cell_type": "markdown",
   "metadata": {},
   "source": [
    "### Remove/map outliers"
   ]
  },
  {
   "cell_type": "code",
   "execution_count": 456,
   "metadata": {},
   "outputs": [],
   "source": [
    "df.drop(df[df[\"bedroomCount\"] > 12].index, inplace=True)\n",
    "#df.groupby(\"bedroomCount\")[\"type\"].count()"
   ]
  },
  {
   "cell_type": "code",
   "execution_count": 457,
   "metadata": {},
   "outputs": [],
   "source": [
    "df.loc[df[\"showerRoomCount\"] < 1, \"showerRoomCount\"] = 0\n",
    "df.loc[df[\"showerRoomCount\"] > 14, \"showerRoomCount\"] = 14"
   ]
  },
  {
   "cell_type": "code",
   "execution_count": 458,
   "metadata": {},
   "outputs": [],
   "source": [
    "df.loc[df[\"gardenSurface\"] < 4, \"gardenSurface\"] = 0\n",
    "df.loc[df[\"gardenSurface\"] > 1000, \"gardenSurface\"] = 1000"
   ]
  },
  {
   "cell_type": "code",
   "execution_count": 459,
   "metadata": {},
   "outputs": [],
   "source": [
    "df.loc[df[\"terraceSurface\"] > 100, \"terraceSurface\"] = 100"
   ]
  },
  {
   "cell_type": "code",
   "execution_count": 460,
   "metadata": {},
   "outputs": [],
   "source": [
    "df.loc[df[\"land\"] < 10, \"land\"] = 0\n",
    "df.loc[df[\"land\"] > 50000, \"land\"] = 50000"
   ]
  },
  {
   "cell_type": "markdown",
   "metadata": {},
   "source": [
    "### Fill null values"
   ]
  },
  {
   "cell_type": "code",
   "execution_count": 461,
   "metadata": {},
   "outputs": [],
   "source": [
    "df[\"condition\"].fillna(value=\"UNKNOWN\", inplace=True)\n",
    "#df.groupby(\"condition\")[\"type\"].count()"
   ]
  },
  {
   "cell_type": "code",
   "execution_count": 462,
   "metadata": {},
   "outputs": [],
   "source": [
    "df[\"bathroomCount\"].fillna(value=0, inplace=True)\n",
    "df[\"toiletCount\"].fillna(value=0, inplace=True)"
   ]
  },
  {
   "cell_type": "code",
   "execution_count": 463,
   "metadata": {},
   "outputs": [],
   "source": [
    "# df.groupby(\"bathroomCount\")[\"type\"].count()\n",
    "# df.groupby(\"showerRoomCount\")[\"type\"].count()\n",
    "# df.groupby(\"toiletCount\")[\"type\"].count()"
   ]
  },
  {
   "cell_type": "code",
   "execution_count": 464,
   "metadata": {},
   "outputs": [],
   "source": [
    "binary_to_fix = [\"hasLift\", \"hasGarden\", \"hasTerrace\", \"fireplaceExists\", \"hasSwimmingPool\", \"hasAirConditioning\"]\n",
    "for btf in binary_to_fix:\n",
    "    df[btf].fillna(value=False, inplace=True)\n",
    "    df[btf] = df[btf].apply(lambda x: 1 if x == True else 0)"
   ]
  },
  {
   "cell_type": "code",
   "execution_count": 465,
   "metadata": {},
   "outputs": [],
   "source": [
    "# df.groupby(\"hasAirConditioning\")[\"type\"].count()"
   ]
  },
  {
   "cell_type": "code",
   "execution_count": 466,
   "metadata": {},
   "outputs": [],
   "source": [
    "#df[[\"gardenSurface\", \"terraceSurface\"]].isna().sum()"
   ]
  },
  {
   "cell_type": "code",
   "execution_count": 467,
   "metadata": {},
   "outputs": [],
   "source": [
    "df[\"gardenSurface\"].fillna(value=0, inplace=True)\n",
    "#df.groupby(\"gardenSurface\")[\"type\"].count()"
   ]
  },
  {
   "cell_type": "code",
   "execution_count": 468,
   "metadata": {},
   "outputs": [],
   "source": [
    "df[\"terraceSurface\"].fillna(value=0, inplace=True)\n",
    "#df.groupby(\"terraceSurface\")[\"type\"].count()"
   ]
  },
  {
   "cell_type": "code",
   "execution_count": 469,
   "metadata": {},
   "outputs": [],
   "source": [
    "df[\"epcScore\"].fillna(value=\"UNKNOWN\", inplace=True)\n",
    "#df.groupby(\"epcScore\")[\"type\"].count()"
   ]
  },
  {
   "cell_type": "code",
   "execution_count": 470,
   "metadata": {},
   "outputs": [],
   "source": [
    "df[\"land\"].fillna(value=0, inplace=True)\n",
    "#df.groupby(\"land\")[\"type\"].count()"
   ]
  },
  {
   "cell_type": "code",
   "execution_count": 471,
   "metadata": {},
   "outputs": [],
   "source": [
    "new_order = [\n",
    "    \"type\", \"region\", \"province\", \"district\", \"postalCode\", \"localityType\",\n",
    "    \"bedroomCount\", \"netHabitableSurface\", \"condition\", \"epcScore\",\n",
    "    \"bathroomCount\", \"showerRoomCount\", \"toiletCount\", \n",
    "    \"hasLift\", \"fireplaceExists\", \"hasSwimmingPool\", \"hasAirConditioning\", \n",
    "    \"hasGarden\", \"hasTerrace\", \"gardenSurface\", \"terraceSurface\", \"land\",\n",
    "    \"price\"\n",
    "    ]\n",
    "df = df[new_order]"
   ]
  },
  {
   "cell_type": "code",
   "execution_count": 472,
   "metadata": {},
   "outputs": [
    {
     "data": {
      "text/plain": [
       "type                   0\n",
       "region                 0\n",
       "province               0\n",
       "district               0\n",
       "postalCode             0\n",
       "localityType           0\n",
       "bedroomCount           0\n",
       "netHabitableSurface    0\n",
       "condition              0\n",
       "epcScore               0\n",
       "bathroomCount          0\n",
       "showerRoomCount        0\n",
       "toiletCount            0\n",
       "hasLift                0\n",
       "fireplaceExists        0\n",
       "hasSwimmingPool        0\n",
       "hasAirConditioning     0\n",
       "hasGarden              0\n",
       "hasTerrace             0\n",
       "gardenSurface          0\n",
       "terraceSurface         0\n",
       "land                   0\n",
       "price                  0\n",
       "dtype: int64"
      ]
     },
     "execution_count": 472,
     "metadata": {},
     "output_type": "execute_result"
    }
   ],
   "source": [
    "df.isna().sum()"
   ]
  },
  {
   "cell_type": "code",
   "execution_count": 473,
   "metadata": {},
   "outputs": [],
   "source": [
    "#   save new csv\n",
    "path_to_save = \"..\\\\data\\\\04_ml_prep_data_drop_duplicate.csv\"\n",
    "df.to_csv(path_to_save, index=True)"
   ]
  }
 ],
 "metadata": {
  "kernelspec": {
   "display_name": "_project_env",
   "language": "python",
   "name": "python3"
  },
  "language_info": {
   "codemirror_mode": {
    "name": "ipython",
    "version": 3
   },
   "file_extension": ".py",
   "mimetype": "text/x-python",
   "name": "python",
   "nbconvert_exporter": "python",
   "pygments_lexer": "ipython3",
   "version": "3.11.3"
  },
  "orig_nbformat": 4
 },
 "nbformat": 4,
 "nbformat_minor": 2
}
