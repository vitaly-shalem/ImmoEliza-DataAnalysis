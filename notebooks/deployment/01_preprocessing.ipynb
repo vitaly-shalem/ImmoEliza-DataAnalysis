{
 "cells": [
  {
   "cell_type": "code",
   "execution_count": 1,
   "metadata": {},
   "outputs": [],
   "source": [
    "import pandas as pd"
   ]
  },
  {
   "cell_type": "code",
   "execution_count": 2,
   "metadata": {},
   "outputs": [
    {
     "name": "stdout",
     "output_type": "stream",
     "text": [
      "22\n"
     ]
    }
   ],
   "source": [
    "property_data = {\n",
    "  \"type\": \"HOUSE\",\n",
    "  \"region\": \"Flanders\",\n",
    "  \"province\": \"West Flanders\",\n",
    "  \"district\": \"Gent\",\n",
    "  \"postalCode\": 9000,\n",
    "  \"locality\": \"Gent\",\n",
    "  \"bedroomCount\": 4,\n",
    "  \"netHabitableSurface\": 200,\n",
    "  \"condition\": \"GOOD\",\n",
    "  \"epcScore\": \"C\",\n",
    "  \"bathroomCount\": 2,\n",
    "  \"showerRoomCount\": 1,\n",
    "  \"toiletCount\": 3,\n",
    "  \"hasLift\": False,\n",
    "  \"fireplaceExists\": True,\n",
    "  \"hasSwimmingPool\": False,\n",
    "  \"hasAirConditioning\": False,\n",
    "  \"hasGarden\": True,\n",
    "  \"hasTerrace\": True,\n",
    "  \"gardenSurface\": 50,\n",
    "  \"terraceSurface\": 10,\n",
    "  \"land\": 150\n",
    "}\n",
    "print(len(property_data))"
   ]
  },
  {
   "cell_type": "code",
   "execution_count": 19,
   "metadata": {},
   "outputs": [
    {
     "data": {
      "text/html": [
       "<div>\n",
       "<style scoped>\n",
       "    .dataframe tbody tr th:only-of-type {\n",
       "        vertical-align: middle;\n",
       "    }\n",
       "\n",
       "    .dataframe tbody tr th {\n",
       "        vertical-align: top;\n",
       "    }\n",
       "\n",
       "    .dataframe thead th {\n",
       "        text-align: right;\n",
       "    }\n",
       "</style>\n",
       "<table border=\"1\" class=\"dataframe\">\n",
       "  <thead>\n",
       "    <tr style=\"text-align: right;\">\n",
       "      <th></th>\n",
       "      <th>type</th>\n",
       "      <th>region</th>\n",
       "      <th>province</th>\n",
       "      <th>district</th>\n",
       "      <th>postalCode</th>\n",
       "      <th>locality</th>\n",
       "      <th>bedroomCount</th>\n",
       "      <th>netHabitableSurface</th>\n",
       "      <th>condition</th>\n",
       "      <th>epcScore</th>\n",
       "      <th>...</th>\n",
       "      <th>toiletCount</th>\n",
       "      <th>hasLift</th>\n",
       "      <th>fireplaceExists</th>\n",
       "      <th>hasSwimmingPool</th>\n",
       "      <th>hasAirConditioning</th>\n",
       "      <th>hasGarden</th>\n",
       "      <th>hasTerrace</th>\n",
       "      <th>gardenSurface</th>\n",
       "      <th>terraceSurface</th>\n",
       "      <th>land</th>\n",
       "    </tr>\n",
       "  </thead>\n",
       "  <tbody>\n",
       "    <tr>\n",
       "      <th>0</th>\n",
       "      <td>HOUSE</td>\n",
       "      <td>Flanders</td>\n",
       "      <td>West Flanders</td>\n",
       "      <td>Gent</td>\n",
       "      <td>9000</td>\n",
       "      <td>Gent</td>\n",
       "      <td>4</td>\n",
       "      <td>200</td>\n",
       "      <td>GOOD</td>\n",
       "      <td>C</td>\n",
       "      <td>...</td>\n",
       "      <td>3</td>\n",
       "      <td>False</td>\n",
       "      <td>True</td>\n",
       "      <td>False</td>\n",
       "      <td>False</td>\n",
       "      <td>True</td>\n",
       "      <td>True</td>\n",
       "      <td>50</td>\n",
       "      <td>10</td>\n",
       "      <td>150</td>\n",
       "    </tr>\n",
       "  </tbody>\n",
       "</table>\n",
       "<p>1 rows × 22 columns</p>\n",
       "</div>"
      ],
      "text/plain": [
       "    type    region       province district  postalCode locality  bedroomCount  \\\n",
       "0  HOUSE  Flanders  West Flanders     Gent        9000     Gent             4   \n",
       "\n",
       "   netHabitableSurface condition epcScore  ...  toiletCount  hasLift  \\\n",
       "0                  200      GOOD        C  ...            3    False   \n",
       "\n",
       "   fireplaceExists  hasSwimmingPool  hasAirConditioning  hasGarden  \\\n",
       "0             True            False               False       True   \n",
       "\n",
       "   hasTerrace  gardenSurface  terraceSurface  land  \n",
       "0        True             50              10   150  \n",
       "\n",
       "[1 rows x 22 columns]"
      ]
     },
     "execution_count": 19,
     "metadata": {},
     "output_type": "execute_result"
    }
   ],
   "source": [
    "pd.DataFrame(property_data, index=[0])"
   ]
  },
  {
   "cell_type": "code",
   "execution_count": 24,
   "metadata": {},
   "outputs": [],
   "source": [
    "from joblib import load\n",
    "transformer = load(\"..\\\\..\\\\models\\\\transformer.dat\")\n",
    "scaler = load(\"..\\\\..\\\\models\\\\scaler.dat\")\n",
    "model = load(\"..\\\\..\\\\models\\\\xgbreg_model.dat\")"
   ]
  }
 ],
 "metadata": {
  "kernelspec": {
   "display_name": "_project_env",
   "language": "python",
   "name": "python3"
  },
  "language_info": {
   "codemirror_mode": {
    "name": "ipython",
    "version": 3
   },
   "file_extension": ".py",
   "mimetype": "text/x-python",
   "name": "python",
   "nbconvert_exporter": "python",
   "pygments_lexer": "ipython3",
   "version": "3.11.3"
  },
  "orig_nbformat": 4
 },
 "nbformat": 4,
 "nbformat_minor": 2
}
