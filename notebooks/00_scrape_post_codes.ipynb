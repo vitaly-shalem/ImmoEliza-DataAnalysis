{
 "cells": [
  {
   "cell_type": "code",
   "execution_count": 2,
   "metadata": {},
   "outputs": [],
   "source": [
    "import requests\n",
    "from bs4 import BeautifulSoup\n",
    "import pandas as pd\n",
    "import json\n",
    "import re"
   ]
  },
  {
   "cell_type": "code",
   "execution_count": 3,
   "metadata": {},
   "outputs": [
    {
     "name": "stdout",
     "output_type": "stream",
     "text": [
      "https://www.metatopos.eu/belgcombiN.html 200\n"
     ]
    }
   ],
   "source": [
    "# Cook soup\n",
    "url = \"https://www.metatopos.eu/belgcombiN.html\"\n",
    "r = requests.get(url)\n",
    "print(url, r.status_code)\n",
    "content = r.text\n",
    "#print(content)\n",
    "soup = BeautifulSoup(content, \"html.parser\")"
   ]
  },
  {
   "cell_type": "code",
   "execution_count": 4,
   "metadata": {},
   "outputs": [],
   "source": [
    "# Extract dat\n",
    "post_data = dict()\n",
    "for tr in soup.find_all(\"tr\"):\n",
    "    # Get data\n",
    "    tr_data = []\n",
    "    tds = tr.findChildren()\n",
    "    for td in tds:\n",
    "        tr_data.append(td.text)\n",
    "    #print(tr_data)\n",
    "    # Store data\n",
    "    pcode = tr_data[0]\n",
    "    if re.match(\"^[0-9]{4}$\", pcode):\n",
    "        if pcode not in post_data.keys():\n",
    "            post_data[pcode] = dict()\n",
    "            post_data[pcode][\"city\"] = tr_data[1]\n",
    "            post_data[pcode][\"city_alt\"] = None\n",
    "            if tr_data[2] != \"\":\n",
    "                post_data[pcode][\"municipality\"] = [tr_data[2]]\n",
    "            else:\n",
    "                post_data[pcode][\"municipality\"] = None\n",
    "        else:\n",
    "            if tr_data[-1].find(post_data[pcode][\"city\"]) != -1:\n",
    "                post_data[pcode][\"city_alt\"] = tr_data[1]\n",
    "            elif post_data[pcode][\"municipality\"] == None:\n",
    "                post_data[pcode][\"municipality\"] = [tr_data[2]]\n",
    "            else:\n",
    "                post_data[pcode][\"municipality\"].append(tr_data[2])"
   ]
  },
  {
   "cell_type": "code",
   "execution_count": 5,
   "metadata": {},
   "outputs": [],
   "source": [
    "# Write to json\n",
    "pcd_json_file = \"..\\data\\\\temp_postal_code_data.json\"\n",
    "with open(pcd_json_file, \"w\", encoding=\"utf-8\") as pcd_json:\n",
    "    pcd_json.write(json.dumps(post_data, indent=4))"
   ]
  },
  {
   "cell_type": "code",
   "execution_count": 6,
   "metadata": {},
   "outputs": [
    {
     "data": {
      "text/html": [
       "<div>\n",
       "<style scoped>\n",
       "    .dataframe tbody tr th:only-of-type {\n",
       "        vertical-align: middle;\n",
       "    }\n",
       "\n",
       "    .dataframe tbody tr th {\n",
       "        vertical-align: top;\n",
       "    }\n",
       "\n",
       "    .dataframe thead th {\n",
       "        text-align: right;\n",
       "    }\n",
       "</style>\n",
       "<table border=\"1\" class=\"dataframe\">\n",
       "  <thead>\n",
       "    <tr style=\"text-align: right;\">\n",
       "      <th></th>\n",
       "      <th>postalCode</th>\n",
       "      <th>municipality</th>\n",
       "      <th>longitude</th>\n",
       "      <th>latitude</th>\n",
       "    </tr>\n",
       "  </thead>\n",
       "  <tbody>\n",
       "    <tr>\n",
       "      <th>0</th>\n",
       "      <td>1000</td>\n",
       "      <td>Bruxelles</td>\n",
       "      <td>4.351697</td>\n",
       "      <td>50.846557</td>\n",
       "    </tr>\n",
       "    <tr>\n",
       "      <th>1</th>\n",
       "      <td>1020</td>\n",
       "      <td>Laeken</td>\n",
       "      <td>4.348713</td>\n",
       "      <td>50.883392</td>\n",
       "    </tr>\n",
       "    <tr>\n",
       "      <th>2</th>\n",
       "      <td>1030</td>\n",
       "      <td>Schaerbeek</td>\n",
       "      <td>4.373712</td>\n",
       "      <td>50.867604</td>\n",
       "    </tr>\n",
       "    <tr>\n",
       "      <th>3</th>\n",
       "      <td>1040</td>\n",
       "      <td>Etterbeek</td>\n",
       "      <td>4.389510</td>\n",
       "      <td>50.836851</td>\n",
       "    </tr>\n",
       "    <tr>\n",
       "      <th>4</th>\n",
       "      <td>1050</td>\n",
       "      <td>Ixelles</td>\n",
       "      <td>4.381571</td>\n",
       "      <td>50.822285</td>\n",
       "    </tr>\n",
       "  </tbody>\n",
       "</table>\n",
       "</div>"
      ],
      "text/plain": [
       "   postalCode municipality  longitude   latitude\n",
       "0        1000    Bruxelles   4.351697  50.846557\n",
       "1        1020       Laeken   4.348713  50.883392\n",
       "2        1030   Schaerbeek   4.373712  50.867604\n",
       "3        1040    Etterbeek   4.389510  50.836851\n",
       "4        1050      Ixelles   4.381571  50.822285"
      ]
     },
     "metadata": {},
     "output_type": "display_data"
    }
   ],
   "source": [
    "pc_data_extra = pd.read_csv(\"..\\data\\zipcode_Belgium\\zipcode-belgium.csv\")\n",
    "display(pc_data_extra.head())"
   ]
  },
  {
   "cell_type": "code",
   "execution_count": 7,
   "metadata": {},
   "outputs": [
    {
     "name": "stdout",
     "output_type": "stream",
     "text": [
      "50.8222854 4.3815707\n"
     ]
    }
   ],
   "source": [
    "lat = pc_data_extra.query('postalCode == 1050 & municipality == \"Ixelles\"')[\"latitude\"].values[0]\n",
    "lng = pc_data_extra.query('postalCode == 1050 & municipality == \"Ixelles\"')[\"longitude\"].values[0]\n",
    "print(lat, lng)"
   ]
  },
  {
   "cell_type": "code",
   "execution_count": 8,
   "metadata": {},
   "outputs": [],
   "source": [
    "# Save as CSV from dictionary (open list)\n",
    "pcdata_csv = \"..\\data\\_postal_code_data.csv\"\n",
    "with open(pcdata_csv, \"w\", encoding=\"utf-8\") as pcd_csv:\n",
    "    header = [\"postalCode\", \"city\", \"municipality\", \"latitude\", \"longitude\", \"cityAltName\"]\n",
    "    pcd_csv.write(\",\".join(header) + \"\\n\")\n",
    "    for code in post_data.keys():\n",
    "        for m in post_data[code][\"municipality\"]:\n",
    "            city = post_data[code][\"city\"]\n",
    "            muni = m\n",
    "            city_alt = str(post_data[code][\"city_alt\"])\n",
    "            if code == \"1050\" and m == \"Elsene\":\n",
    "                city = \"Ixelles\"\n",
    "                muni = \"Ixelles\"\n",
    "                city_alt = \"Elsene\"\n",
    "            lat = pc_data_extra.query('postalCode == 1050 & municipality == \"Ixelles\"')[\"latitude\"].values[0]\n",
    "            lng = pc_data_extra.query('postalCode == 1050 & municipality == \"Ixelles\"')[\"longitude\"].values[0]\n",
    "            \n",
    "            line = [code, city, muni, str(lat), str(lng), city_alt]\n",
    "            pcd_csv.write(\",\".join(line) + \"\\n\")"
   ]
  }
 ],
 "metadata": {
  "kernelspec": {
   "display_name": "_project_env",
   "language": "python",
   "name": "python3"
  },
  "language_info": {
   "codemirror_mode": {
    "name": "ipython",
    "version": 3
   },
   "file_extension": ".py",
   "mimetype": "text/x-python",
   "name": "python",
   "nbconvert_exporter": "python",
   "pygments_lexer": "ipython3",
   "version": "3.11.3"
  },
  "orig_nbformat": 4
 },
 "nbformat": 4,
 "nbformat_minor": 2
}
