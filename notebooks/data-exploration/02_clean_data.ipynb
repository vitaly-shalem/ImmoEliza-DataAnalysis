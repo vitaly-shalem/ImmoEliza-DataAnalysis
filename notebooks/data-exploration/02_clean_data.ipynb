{
 "cells": [
  {
   "cell_type": "code",
   "execution_count": 1,
   "metadata": {},
   "outputs": [],
   "source": [
    "import numpy as np\n",
    "from matplotlib import pyplot as plt\n",
    "import seaborn as sns\n",
    "import pandas as pd\n",
    "import json"
   ]
  },
  {
   "cell_type": "code",
   "execution_count": 2,
   "metadata": {},
   "outputs": [
    {
     "data": {
      "text/plain": [
       "(19978, 40)"
      ]
     },
     "execution_count": 2,
     "metadata": {},
     "output_type": "execute_result"
    }
   ],
   "source": [
    "# #############\n",
    "#   load data\n",
    "# #############\n",
    "df = pd.read_csv(\"..\\\\data\\\\01_modifyData_properties_data.csv\", index_col=\"ID\")\n",
    "df.shape"
   ]
  },
  {
   "cell_type": "code",
   "execution_count": 3,
   "metadata": {},
   "outputs": [],
   "source": [
    "# ###########################\n",
    "#   remove \"bad\" properties\n",
    "# ###########################\n"
   ]
  },
  {
   "cell_type": "code",
   "execution_count": 4,
   "metadata": {},
   "outputs": [
    {
     "name": "stdout",
     "output_type": "stream",
     "text": [
      "(18919, 40)\n"
     ]
    }
   ],
   "source": [
    "# type of sale\n",
    "saleType2drop = ['NewRealEstateProject', 'NotarySale', 'PublicSale', 'LifeAnnuitySale', 'InvestmentProject']\n",
    "for saleType in saleType2drop:\n",
    "    df.drop(df[df['saleType'] == saleType].index, inplace=True)\n",
    "print(df.shape)"
   ]
  },
  {
   "cell_type": "code",
   "execution_count": 5,
   "metadata": {},
   "outputs": [],
   "source": [
    "# remove some bad values\n",
    "# bedrooms\n",
    "df.drop(df[df[\"bedroomCount\"] < 1].index, inplace=True)\n",
    "df.drop(df[df[\"bedroomCount\"] > 30].index, inplace=True)\n"
   ]
  },
  {
   "cell_type": "code",
   "execution_count": 6,
   "metadata": {},
   "outputs": [],
   "source": [
    "# livig surface\n",
    "df.drop(df[df[\"netHabitableSurface\"] < 20].index, inplace=True)\n",
    "df.drop(df[df[\"netHabitableSurface\"] > 1000].index, inplace=True)\n",
    "#df.groupby(\"netHabitableSurface\")[\"type\"].count()"
   ]
  },
  {
   "cell_type": "code",
   "execution_count": 7,
   "metadata": {},
   "outputs": [
    {
     "data": {
      "text/plain": [
       "netHabitableSurface\n",
       "20.0      6\n",
       "21.0      3\n",
       "22.0      4\n",
       "23.0      2\n",
       "24.0      4\n",
       "         ..\n",
       "970.0     3\n",
       "975.0     2\n",
       "988.0     2\n",
       "994.0     1\n",
       "1000.0    3\n",
       "Name: type, Length: 587, dtype: int64"
      ]
     },
     "execution_count": 7,
     "metadata": {},
     "output_type": "execute_result"
    }
   ],
   "source": [
    "df.groupby(\"netHabitableSurface\")[\"type\"].count()"
   ]
  },
  {
   "cell_type": "code",
   "execution_count": 8,
   "metadata": {},
   "outputs": [],
   "source": [
    "# price\n",
    "df.drop(df[df[\"price\"] < 10000].index, inplace=True)\n"
   ]
  },
  {
   "cell_type": "code",
   "execution_count": 9,
   "metadata": {},
   "outputs": [
    {
     "data": {
      "text/plain": [
       "epcScore\n",
       "A    1412\n",
       "B    3449\n",
       "C    2907\n",
       "D    2353\n",
       "E    1608\n",
       "F    1883\n",
       "G     982\n",
       "Name: type, dtype: int64"
      ]
     },
     "execution_count": 9,
     "metadata": {},
     "output_type": "execute_result"
    }
   ],
   "source": [
    "epc = ['G_A++', 'C_B', 'G_F', 'G_A', 'E_A', 'D_C']\n",
    "df[\"epcScore\"] = df[\"epcScore\"].str.replace(r\"^[A-Z]_\", \"\", regex=True)\n",
    "df[\"epcScore\"] = df[\"epcScore\"].str.replace(\"+\", \"\")\n",
    "df.groupby(\"epcScore\")[\"type\"].count()\n"
   ]
  },
  {
   "cell_type": "code",
   "execution_count": 10,
   "metadata": {},
   "outputs": [
    {
     "name": "stdout",
     "output_type": "stream",
     "text": [
      "(18348, 40)\n"
     ]
    }
   ],
   "source": [
    "# print shape\n",
    "print(df.shape)"
   ]
  },
  {
   "cell_type": "code",
   "execution_count": 11,
   "metadata": {},
   "outputs": [],
   "source": [
    "# ############################\n",
    "#   remove redundant columns\n",
    "# ############################\n"
   ]
  },
  {
   "cell_type": "code",
   "execution_count": 12,
   "metadata": {},
   "outputs": [],
   "source": [
    "# #####################\n",
    "#   remove duplicates\n",
    "# #####################\n"
   ]
  },
  {
   "cell_type": "code",
   "execution_count": 13,
   "metadata": {},
   "outputs": [],
   "source": [
    "# ##############################\n",
    "#   reduce parking information\n",
    "# ##############################\n"
   ]
  },
  {
   "cell_type": "code",
   "execution_count": 14,
   "metadata": {},
   "outputs": [
    {
     "name": "stdout",
     "output_type": "stream",
     "text": [
      "<class 'pandas.core.frame.DataFrame'>\n",
      "Index: 18348 entries, 10616910 to 10616831\n",
      "Data columns (total 40 columns):\n",
      " #   Column                          Non-Null Count  Dtype  \n",
      "---  ------                          --------------  -----  \n",
      " 0   type                            18348 non-null  object \n",
      " 1   subtype                         18348 non-null  object \n",
      " 2   region                          18348 non-null  object \n",
      " 3   province                        18348 non-null  object \n",
      " 4   district                        18348 non-null  object \n",
      " 5   locality                        18348 non-null  object \n",
      " 6   localityType                    18348 non-null  int64  \n",
      " 7   postalCode                      18348 non-null  int64  \n",
      " 8   address                         14351 non-null  object \n",
      " 9   latitude                        14817 non-null  float64\n",
      " 10  longitude                       14817 non-null  float64\n",
      " 11  condition                       13565 non-null  object \n",
      " 12  constructionYear                11519 non-null  float64\n",
      " 13  price                           18348 non-null  float64\n",
      " 14  pricePerMeter                   16518 non-null  float64\n",
      " 15  bedroomCount                    18348 non-null  float64\n",
      " 16  netHabitableSurface             16518 non-null  float64\n",
      " 17  floor                           9071 non-null   float64\n",
      " 18  floorCount                      5598 non-null   float64\n",
      " 19  hasLift                         12359 non-null  object \n",
      " 20  facadeCount                     13192 non-null  float64\n",
      " 21  hasGarden                       5803 non-null   object \n",
      " 22  gardenSurface                   3581 non-null   float64\n",
      " 23  hasTerrace                      11699 non-null  object \n",
      " 24  terraceSurface                  7354 non-null   float64\n",
      " 25  land                            9269 non-null   float64\n",
      " 26  kitchen                         12044 non-null  object \n",
      " 27  bathroomCount                   16178 non-null  float64\n",
      " 28  showerRoomCount                 18348 non-null  float64\n",
      " 29  toiletCount                     14088 non-null  float64\n",
      " 30  fireplaceExists                 18348 non-null  bool   \n",
      " 31  hasSwimmingPool                 9502 non-null   object \n",
      " 32  hasAirConditioning              2143 non-null   object \n",
      " 33  parkingCountIndoor              7127 non-null   float64\n",
      " 34  parkingCountOutdoor             5325 non-null   float64\n",
      " 35  parkingCountClosedBox           0 non-null      float64\n",
      " 36  primaryEnergyConsumptionPerSqm  14563 non-null  float64\n",
      " 37  epcScore                        14594 non-null  object \n",
      " 38  hasDoubleGlazing                14403 non-null  object \n",
      " 39  saleType                        0 non-null      object \n",
      "dtypes: bool(1), float64(20), int64(2), object(17)\n",
      "memory usage: 5.6+ MB\n"
     ]
    }
   ],
   "source": [
    "df.info()"
   ]
  },
  {
   "cell_type": "code",
   "execution_count": 15,
   "metadata": {},
   "outputs": [],
   "source": [
    "# ################\n",
    "#   save new csv\n",
    "# ################\n",
    "path_to_save = \"..\\\\data\\\\02_cleanData_properties_data.csv\"\n",
    "df.to_csv(path_to_save, index=True)\n"
   ]
  }
 ],
 "metadata": {
  "kernelspec": {
   "display_name": "_project_env",
   "language": "python",
   "name": "python3"
  },
  "language_info": {
   "codemirror_mode": {
    "name": "ipython",
    "version": 3
   },
   "file_extension": ".py",
   "mimetype": "text/x-python",
   "name": "python",
   "nbconvert_exporter": "python",
   "pygments_lexer": "ipython3",
   "version": "3.11.3"
  },
  "orig_nbformat": 4
 },
 "nbformat": 4,
 "nbformat_minor": 2
}
