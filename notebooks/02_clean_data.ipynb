{
 "cells": [
  {
   "cell_type": "code",
   "execution_count": 9,
   "metadata": {},
   "outputs": [],
   "source": [
    "import numpy as np\n",
    "from matplotlib import pyplot as plt\n",
    "import seaborn as sns\n",
    "import pandas as pd\n",
    "import json"
   ]
  },
  {
   "cell_type": "code",
   "execution_count": 89,
   "metadata": {},
   "outputs": [
    {
     "data": {
      "text/plain": [
       "(19978, 39)"
      ]
     },
     "execution_count": 89,
     "metadata": {},
     "output_type": "execute_result"
    }
   ],
   "source": [
    "# #############\n",
    "#   load data\n",
    "# #############\n",
    "df = pd.read_csv(\"..\\\\data\\\\01_modifyData_properties_data.csv\", index_col=\"ID\")\n",
    "df.shape"
   ]
  },
  {
   "cell_type": "code",
   "execution_count": 35,
   "metadata": {},
   "outputs": [],
   "source": [
    "# ###########################\n",
    "#   remove \"bad\" properties\n",
    "# ###########################\n"
   ]
  },
  {
   "cell_type": "code",
   "execution_count": 90,
   "metadata": {},
   "outputs": [
    {
     "name": "stdout",
     "output_type": "stream",
     "text": [
      "(18919, 39)\n"
     ]
    }
   ],
   "source": [
    "# type of sale\n",
    "saleType2drop = ['NewRealEstateProject', 'NotarySale', 'PublicSale', 'LifeAnnuitySale', 'InvestmentProject']\n",
    "for saleType in saleType2drop:\n",
    "    df.drop(df[df['saleType'] == saleType].index, inplace=True)\n",
    "print(df.shape)"
   ]
  },
  {
   "cell_type": "code",
   "execution_count": 91,
   "metadata": {},
   "outputs": [],
   "source": [
    "# remove some bad values\n",
    "# bedrooms\n",
    "df.drop(df[df[\"bedroomCount\"] < 1].index, inplace=True)\n",
    "df.drop(df[df[\"bedroomCount\"] > 30].index, inplace=True)\n"
   ]
  },
  {
   "cell_type": "code",
   "execution_count": 94,
   "metadata": {},
   "outputs": [],
   "source": [
    "# livig surface\n",
    "df.drop(df[df[\"netHabitableSurface\"] < 20].index, inplace=True)\n",
    "df.drop(df[df[\"netHabitableSurface\"] > 1000].index, inplace=True)\n",
    "#df.groupby(\"netHabitableSurface\")[\"type\"].count()"
   ]
  },
  {
   "cell_type": "code",
   "execution_count": 93,
   "metadata": {},
   "outputs": [
    {
     "data": {
      "text/plain": [
       "netHabitableSurface\n",
       "20.0      6\n",
       "21.0      3\n",
       "22.0      4\n",
       "23.0      2\n",
       "24.0      4\n",
       "         ..\n",
       "970.0     3\n",
       "975.0     2\n",
       "988.0     2\n",
       "994.0     1\n",
       "1000.0    3\n",
       "Name: type, Length: 587, dtype: int64"
      ]
     },
     "execution_count": 93,
     "metadata": {},
     "output_type": "execute_result"
    }
   ],
   "source": [
    "df.groupby(\"netHabitableSurface\")[\"type\"].count()"
   ]
  },
  {
   "cell_type": "code",
   "execution_count": 95,
   "metadata": {},
   "outputs": [],
   "source": [
    "# price\n",
    "df.drop(df[df[\"price\"] < 10000].index, inplace=True)\n"
   ]
  },
  {
   "cell_type": "code",
   "execution_count": 99,
   "metadata": {},
   "outputs": [
    {
     "data": {
      "text/plain": [
       "epcScore\n",
       "A    1412\n",
       "B    3449\n",
       "C    2907\n",
       "D    2353\n",
       "E    1608\n",
       "F    1883\n",
       "G     982\n",
       "Name: type, dtype: int64"
      ]
     },
     "execution_count": 99,
     "metadata": {},
     "output_type": "execute_result"
    }
   ],
   "source": [
    "epc = ['G_A++', 'C_B', 'G_F', 'G_A', 'E_A', 'D_C']\n",
    "df[\"epcScore\"] = df[\"epcScore\"].str.replace(r\"^[A-Z]_\", \"\", regex=True)\n",
    "df[\"epcScore\"] = df[\"epcScore\"].str.replace(\"+\", \"\")\n",
    "df.groupby(\"epcScore\")[\"type\"].count()\n"
   ]
  },
  {
   "cell_type": "code",
   "execution_count": 100,
   "metadata": {},
   "outputs": [
    {
     "name": "stdout",
     "output_type": "stream",
     "text": [
      "(18348, 39)\n"
     ]
    }
   ],
   "source": [
    "# print shape\n",
    "print(df.shape)"
   ]
  },
  {
   "cell_type": "code",
   "execution_count": null,
   "metadata": {},
   "outputs": [],
   "source": [
    "# ############################\n",
    "#   remove redundant columns\n",
    "# ############################\n"
   ]
  },
  {
   "cell_type": "code",
   "execution_count": null,
   "metadata": {},
   "outputs": [],
   "source": [
    "# #####################\n",
    "#   remove duplicates\n",
    "# #####################\n"
   ]
  },
  {
   "cell_type": "code",
   "execution_count": null,
   "metadata": {},
   "outputs": [],
   "source": [
    "# ##############################\n",
    "#   reduce parking information\n",
    "# ##############################\n"
   ]
  },
  {
   "cell_type": "code",
   "execution_count": 98,
   "metadata": {},
   "outputs": [],
   "source": [
    "# ################\n",
    "#   save new csv\n",
    "# ################\n",
    "path_to_save = \"..\\\\data\\\\02_cleanData_properties_data.csv\"\n",
    "df.to_csv(path_to_save, index=True)\n"
   ]
  }
 ],
 "metadata": {
  "kernelspec": {
   "display_name": "_project_env",
   "language": "python",
   "name": "python3"
  },
  "language_info": {
   "codemirror_mode": {
    "name": "ipython",
    "version": 3
   },
   "file_extension": ".py",
   "mimetype": "text/x-python",
   "name": "python",
   "nbconvert_exporter": "python",
   "pygments_lexer": "ipython3",
   "version": "3.11.3"
  },
  "orig_nbformat": 4
 },
 "nbformat": 4,
 "nbformat_minor": 2
}
